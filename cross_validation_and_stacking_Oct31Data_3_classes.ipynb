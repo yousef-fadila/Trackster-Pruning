{
 "cells": [
  {
   "cell_type": "code",
   "execution_count": 1,
   "metadata": {},
   "outputs": [],
   "source": [
    "import pandas as pd\n",
    "import numpy as np\n",
    "from sklearn.decomposition import PCA\n",
    "from sklearn.metrics import confusion_matrix, accuracy_score\n",
    "from sklearn.preprocessing import MinMaxScaler,StandardScaler\n",
    "import matplotlib.pyplot as plt\n",
    "from sklearn.model_selection import GridSearchCV\n",
    "from sklearn.neural_network import MLPClassifier\n",
    "from sklearn.ensemble import ExtraTreesClassifier\n",
    "from sklearn.ensemble import RandomForestClassifier\n",
    "from sklearn.linear_model import LogisticRegression\n",
    "import sklearn\n",
    "from sklearn.svm import SVC\n",
    "from vecstack import stacking\n",
    "from xgboost import XGBClassifier\n",
    "from sklearn.model_selection import cross_validate"
   ]
  },
  {
   "cell_type": "code",
   "execution_count": 2,
   "metadata": {},
   "outputs": [],
   "source": [
    "new_store = pd.read_hdf(\"singlepi_e100GeV_pu200Nov7.h5\")\n",
    "prev_store = pd.read_hdf(\"singlepi_e100GeV_pu200_oct27.h5\")"
   ]
  },
  {
   "cell_type": "code",
   "execution_count": 3,
   "metadata": {},
   "outputs": [],
   "source": [
    "# load the old data of october 27 to use it as test data. \n",
    "#prev_store['purity']=prev_store['purity'].apply(lambda x: 0 if x <=1 else 1 )\n",
    "XOct27Test = prev_store.drop(['purity','event','trackster','trckType'],1,inplace=False)\n",
    "YOct27Test = prev_store[['purity']].iloc[:,0]"
   ]
  },
  {
   "cell_type": "code",
   "execution_count": 4,
   "metadata": {},
   "outputs": [],
   "source": [
    "df = new_store.drop(['trckType'],1,inplace=False)\n",
    "#df['purity']=df['purity'].apply(lambda x: 0 if x <=1 else 1 )\n"
   ]
  },
  {
   "cell_type": "code",
   "execution_count": 5,
   "metadata": {},
   "outputs": [],
   "source": [
    "X = df.drop(['purity','event','trackster'],1,inplace=False)\n",
    "y = df[['purity']].iloc[:,0]\n",
    "\n",
    "sc = StandardScaler()\n",
    "SC_X = sc.fit_transform(X)\n",
    "trainDF=df.sample(frac=0.9,random_state=200) #random state is a seed value\n",
    "testDF=df.drop(trainDF.index)\n",
    "\n",
    "xTrain = trainDF.drop(['purity','event','trackster'],1,inplace=False)\n",
    "xTest = testDF.drop(['purity','event','trackster'],1,inplace=False)\n",
    "\n",
    "SC_xTrain = sc.fit_transform(xTrain)\n",
    "SC_xTest = sc.transform(xTest)\n",
    "\n",
    "yTrain = trainDF[['purity']].iloc[:,0]\n",
    "yTest =  testDF[['purity']].iloc[:,0]"
   ]
  },
  {
   "cell_type": "code",
   "execution_count": 16,
   "metadata": {
    "scrolled": true
   },
   "outputs": [
    {
     "name": "stdout",
     "output_type": "stream",
     "text": [
      "Testing confusion_matrix\n",
      "[[1854    3    1]\n",
      " [ 172    0    0]\n",
      " [ 549    0    9]]\n",
      "Test accuracy\n",
      "0.7198608964451314\n",
      "Test F1 score\n",
      "0.7198608964451313\n"
     ]
    }
   ],
   "source": [
    "clf0 = SVC(C=10,kernel='rbf', gamma=0.5, random_state=1234).fit(xTrain, yTrain)\n",
    "yTestPred = clf0.predict(xTest) \n",
    "\n",
    "print(\"Testing confusion_matrix\")\n",
    "print(confusion_matrix(yTest, yTestPred))\n",
    "\n",
    "print(\"Test accuracy\")\n",
    "print(sklearn.metrics.accuracy_score(yTest, yTestPred))\n",
    "print(\"Test F1 score\")\n",
    "print(sklearn.metrics.f1_score(yTest, yTestPred,average='micro'))"
   ]
  },
  {
   "cell_type": "code",
   "execution_count": 6,
   "metadata": {},
   "outputs": [],
   "source": [
    "clf_MLP = MLPClassifier(alpha=0.05, hidden_layer_sizes=(50, 50, 50), random_state=1234)\n",
    "clf_RF = RandomForestClassifier(max_depth=40,n_estimators=100,random_state=1234)\n",
    "clf_SVM = SVC(C=10,kernel='rbf', gamma=0.5, random_state=1234)\n",
    "clf_XGB= XGBClassifier(max_depth=50,random_state=1234)\n",
    "\n",
    "models = [clf_MLP, clf_RF, clf_SVM, clf_XGB]\n",
    "names = [\"MLP\", \"RF\", \"SVM\", \"XGB\"]"
   ]
  },
  {
   "cell_type": "code",
   "execution_count": 21,
   "metadata": {},
   "outputs": [
    {
     "name": "stdout",
     "output_type": "stream",
     "text": [
      "MLP\n"
     ]
    },
    {
     "name": "stderr",
     "output_type": "stream",
     "text": [
      "C:\\Users\\20184731\\AppData\\Local\\Continuum\\anaconda3\\lib\\site-packages\\sklearn\\neural_network\\multilayer_perceptron.py:566: ConvergenceWarning: Stochastic Optimizer: Maximum iterations (200) reached and the optimization hasn't converged yet.\n",
      "  % self.max_iter, ConvergenceWarning)\n",
      "C:\\Users\\20184731\\AppData\\Local\\Continuum\\anaconda3\\lib\\site-packages\\sklearn\\neural_network\\multilayer_perceptron.py:566: ConvergenceWarning: Stochastic Optimizer: Maximum iterations (200) reached and the optimization hasn't converged yet.\n",
      "  % self.max_iter, ConvergenceWarning)\n",
      "C:\\Users\\20184731\\AppData\\Local\\Continuum\\anaconda3\\lib\\site-packages\\sklearn\\neural_network\\multilayer_perceptron.py:566: ConvergenceWarning: Stochastic Optimizer: Maximum iterations (200) reached and the optimization hasn't converged yet.\n",
      "  % self.max_iter, ConvergenceWarning)\n",
      "C:\\Users\\20184731\\AppData\\Local\\Continuum\\anaconda3\\lib\\site-packages\\sklearn\\neural_network\\multilayer_perceptron.py:566: ConvergenceWarning: Stochastic Optimizer: Maximum iterations (200) reached and the optimization hasn't converged yet.\n",
      "  % self.max_iter, ConvergenceWarning)\n",
      "C:\\Users\\20184731\\AppData\\Local\\Continuum\\anaconda3\\lib\\site-packages\\sklearn\\neural_network\\multilayer_perceptron.py:566: ConvergenceWarning: Stochastic Optimizer: Maximum iterations (200) reached and the optimization hasn't converged yet.\n",
      "  % self.max_iter, ConvergenceWarning)\n"
     ]
    },
    {
     "name": "stdout",
     "output_type": "stream",
     "text": [
      "test_accuracy [0.8436993  0.85208221 0.84072472 0.79475392 0.79713281 0.83522727\n",
      " 0.83089827]\n",
      "test_f1_micro [0.8436993  0.85208221 0.84072472 0.79475392 0.79713281 0.83522727\n",
      " 0.83089827]\n",
      "train_accuracy [0.92205743 0.92084028 0.91930758 0.9192625  0.92467544 0.921794\n",
      " 0.92116295]\n",
      "RF\n",
      "test_accuracy [0.83829097 0.87777177 0.86154678 0.72120065 0.71057614 0.83874459\n",
      " 0.87094156]\n",
      "test_f1_micro [0.83829097 0.87777177 0.86154678 0.72120065 0.71057614 0.83874459\n",
      " 0.87094156]\n",
      "train_accuracy [1.         1.         1.         1.         0.99995492 0.99995492\n",
      " 1.        ]\n",
      "SVM\n",
      "test_accuracy [0.83423472 0.84342888 0.83693889 0.74256355 0.69596971 0.72619048\n",
      " 0.82007576]\n",
      "test_f1_micro [0.83423472 0.84342888 0.83693889 0.74256355 0.69596971 0.72619048\n",
      " 0.82007576]\n",
      "train_accuracy [0.92386061 0.92106568 0.92115584 0.92381553 0.92548684 0.92093757\n",
      " 0.92053189]\n",
      "XGB\n",
      "test_accuracy [0.83531639 0.86587345 0.86127637 0.79502434 0.70976467 0.8357684\n",
      " 0.86255411]\n",
      "test_f1_micro [0.83531639 0.86587345 0.86127637 0.79502434 0.70976467 0.8357684\n",
      " 0.86255411]\n",
      "train_accuracy [1. 1. 1. 1. 1. 1. 1.]\n"
     ]
    }
   ],
   "source": [
    "scoring = {'accuracy': 'accuracy','f1_micro': 'f1_micro'}\n",
    "\n",
    "for model, name in zip(models, names):\n",
    "    print (name)\n",
    "    cv_results=cross_validate(model, SC_X, y, scoring=scoring, cv=7, return_train_score=True)\n",
    "    print(\"test_accuracy\", cv_results['test_accuracy'])\n",
    "    print(\"test_f1_micro\", cv_results['test_f1_micro'])\n",
    "    print(\"train_accuracy\", cv_results['train_accuracy'])\n"
   ]
  },
  {
   "cell_type": "code",
   "execution_count": 22,
   "metadata": {},
   "outputs": [
    {
     "name": "stdout",
     "output_type": "stream",
     "text": [
      "MLP\n"
     ]
    },
    {
     "name": "stderr",
     "output_type": "stream",
     "text": [
      "C:\\Users\\20184731\\AppData\\Local\\Continuum\\anaconda3\\lib\\site-packages\\sklearn\\neural_network\\multilayer_perceptron.py:566: ConvergenceWarning: Stochastic Optimizer: Maximum iterations (200) reached and the optimization hasn't converged yet.\n",
      "  % self.max_iter, ConvergenceWarning)\n"
     ]
    },
    {
     "name": "stdout",
     "output_type": "stream",
     "text": [
      "test_accuracy [0.83396431 0.87074094 0.8553272  0.86289886 0.84473898 0.81926407\n",
      " 0.86985931]\n",
      "test_f1_micro [0.83396431 0.87074094 0.8553272  0.86289886 0.84473898 0.81926407\n",
      " 0.86985931]\n",
      "train_accuracy [0.88058423 0.87873597 0.88811252 0.87855565 0.87968806 0.88284877\n",
      " 0.87500563]\n",
      "RF\n",
      "test_accuracy [0.83747972 0.87696052 0.85938345 0.72228231 0.71030565 0.83847403\n",
      " 0.87040043]\n",
      "test_f1_micro [0.83747972 0.87696052 0.85938345 0.72228231 0.71030565 0.83847403\n",
      " 0.87040043]\n",
      "train_accuracy [1.         1.         1.         1.         0.99995492 0.99995492\n",
      " 1.        ]\n",
      "SVM\n",
      "test_accuracy [0.7203894  0.71768524 0.71957815 0.72011898 0.71977279 0.72050866\n",
      " 0.71996753]\n",
      "test_f1_micro [0.7203894  0.71768524 0.71957815 0.72011898 0.71977279 0.72050866\n",
      " 0.71996753]\n",
      "train_accuracy [1.         1.         0.99995492 0.99995492 0.99995492 0.99995492\n",
      " 0.99995492]\n",
      "XGB\n",
      "test_accuracy [0.83396431 0.86587345 0.85722012 0.79691725 0.71517447 0.83658009\n",
      " 0.8612013 ]\n",
      "test_f1_micro [0.83396431 0.86587345 0.85722012 0.79691725 0.71517447 0.83658009\n",
      " 0.8612013 ]\n",
      "train_accuracy [1. 1. 1. 1. 1. 1. 1.]\n"
     ]
    }
   ],
   "source": [
    "scoring = {'accuracy': 'accuracy','f1_micro': 'f1_micro'}\n",
    "\n",
    "for model, name in zip(models, names):\n",
    "    print (name)\n",
    "    cv_results=cross_validate(model,X, y, scoring=scoring, cv=7, return_train_score=True)\n",
    "    print(\"test_accuracy\", cv_results['test_accuracy'])\n",
    "    print(\"test_f1_micro\", cv_results['test_f1_micro'])\n",
    "    print(\"train_accuracy\", cv_results['train_accuracy'])"
   ]
  },
  {
   "cell_type": "code",
   "execution_count": 27,
   "metadata": {},
   "outputs": [
    {
     "name": "stdout",
     "output_type": "stream",
     "text": [
      "coress validation with feature scaling wiht PCA 5 - CV 10\n",
      "MLP\n"
     ]
    },
    {
     "name": "stderr",
     "output_type": "stream",
     "text": [
      "C:\\Users\\20184731\\AppData\\Local\\Continuum\\anaconda3\\lib\\site-packages\\sklearn\\neural_network\\multilayer_perceptron.py:566: ConvergenceWarning: Stochastic Optimizer: Maximum iterations (200) reached and the optimization hasn't converged yet.\n",
      "  % self.max_iter, ConvergenceWarning)\n",
      "C:\\Users\\20184731\\AppData\\Local\\Continuum\\anaconda3\\lib\\site-packages\\sklearn\\neural_network\\multilayer_perceptron.py:566: ConvergenceWarning: Stochastic Optimizer: Maximum iterations (200) reached and the optimization hasn't converged yet.\n",
      "  % self.max_iter, ConvergenceWarning)\n",
      "C:\\Users\\20184731\\AppData\\Local\\Continuum\\anaconda3\\lib\\site-packages\\sklearn\\neural_network\\multilayer_perceptron.py:566: ConvergenceWarning: Stochastic Optimizer: Maximum iterations (200) reached and the optimization hasn't converged yet.\n",
      "  % self.max_iter, ConvergenceWarning)\n",
      "C:\\Users\\20184731\\AppData\\Local\\Continuum\\anaconda3\\lib\\site-packages\\sklearn\\neural_network\\multilayer_perceptron.py:566: ConvergenceWarning: Stochastic Optimizer: Maximum iterations (200) reached and the optimization hasn't converged yet.\n",
      "  % self.max_iter, ConvergenceWarning)\n",
      "C:\\Users\\20184731\\AppData\\Local\\Continuum\\anaconda3\\lib\\site-packages\\sklearn\\neural_network\\multilayer_perceptron.py:566: ConvergenceWarning: Stochastic Optimizer: Maximum iterations (200) reached and the optimization hasn't converged yet.\n",
      "  % self.max_iter, ConvergenceWarning)\n"
     ]
    },
    {
     "name": "stdout",
     "output_type": "stream",
     "text": [
      "test_accuracy [0.83281853 0.8370027  0.88523957 0.82727975 0.82264297 0.82612056\n",
      " 0.79984544 0.87944359 0.82643989 0.8763046 ]\n",
      "test_f1_micro [0.83281853 0.8370027  0.88523957 0.82727975 0.82264297 0.82612056\n",
      " 0.79984544 0.87944359 0.82643989 0.8763046 ]\n",
      "train_accuracy [0.89442274 0.89382621 0.88606019 0.89331559 0.89202765 0.88846435\n",
      " 0.89151247 0.88618898 0.89374946 0.89134541]\n",
      "RF\n",
      "test_accuracy [0.82509653 0.84125145 0.88214838 0.84003091 0.86398764 0.80757342\n",
      " 0.80293663 0.86785162 0.82064167 0.8658678 ]\n",
      "test_f1_micro [0.82509653 0.84125145 0.88214838 0.84003091 0.86398764 0.80757342\n",
      " 0.80293663 0.86785162 0.82064167 0.8658678 ]\n",
      "train_accuracy [0.99995706 1.         1.         1.         1.         1.\n",
      " 0.99991414 1.         1.         0.99995707]\n",
      "SVM\n",
      "test_accuracy [0.82779923 0.84781769 0.86978362 0.83230294 0.79211747 0.82264297\n",
      " 0.79598145 0.85896445 0.78430615 0.87011983]\n",
      "test_f1_micro [0.82779923 0.84781769 0.86978362 0.83230294 0.79211747 0.82264297\n",
      " 0.79598145 0.85896445 0.78430615 0.87011983]\n",
      "train_accuracy [0.89579666 0.89369741 0.89082557 0.89503284 0.89271455 0.89434594\n",
      " 0.89477525 0.8916842  0.89383532 0.89095905]\n",
      "XGB\n",
      "test_accuracy [0.82200772 0.83661645 0.87017002 0.83423493 0.85046368 0.80409583\n",
      " 0.77859351 0.86398764 0.82025512 0.8658678 ]\n",
      "test_f1_micro [0.82200772 0.83661645 0.87017002 0.83423493 0.85046368 0.80409583\n",
      " 0.77859351 0.86398764 0.82025512 0.8658678 ]\n",
      "train_accuracy [1. 1. 1. 1. 1. 1. 1. 1. 1. 1.]\n"
     ]
    }
   ],
   "source": [
    "print('coress validation with feature scaling wiht PCA 5 - CV 10')\n",
    "\n",
    "pca = PCA(n_components= 5)\n",
    "SC_X_pca = pca.fit_transform(SC_X)\n",
    "\n",
    "for model, name in zip(models, names):\n",
    "    print (name)\n",
    "    cv_results=cross_validate(model, SC_X_pca, y, scoring=scoring, cv=10, return_train_score=True)\n",
    "    print(\"test_accuracy\", cv_results['test_accuracy'])\n",
    "    print(\"test_f1_micro\", cv_results['test_f1_micro'])\n",
    "    print(\"train_accuracy\", cv_results['train_accuracy'])"
   ]
  },
  {
   "cell_type": "code",
   "execution_count": 7,
   "metadata": {},
   "outputs": [
    {
     "name": "stdout",
     "output_type": "stream",
     "text": [
      "task:         [classification]\n",
      "n_classes:    [3]\n",
      "metric:       [accuracy_score]\n",
      "mode:         [oof_pred_bag]\n",
      "n_models:     [4]\n",
      "\n",
      "model  0:     [MLPClassifier]\n"
     ]
    },
    {
     "name": "stderr",
     "output_type": "stream",
     "text": [
      "C:\\Users\\20184731\\AppData\\Local\\Continuum\\anaconda3\\lib\\site-packages\\sklearn\\neural_network\\multilayer_perceptron.py:566: ConvergenceWarning: Stochastic Optimizer: Maximum iterations (200) reached and the optimization hasn't converged yet.\n",
      "  % self.max_iter, ConvergenceWarning)\n"
     ]
    },
    {
     "name": "stdout",
     "output_type": "stream",
     "text": [
      "    fold  0:  [0.89573317]\n"
     ]
    },
    {
     "name": "stderr",
     "output_type": "stream",
     "text": [
      "C:\\Users\\20184731\\AppData\\Local\\Continuum\\anaconda3\\lib\\site-packages\\sklearn\\neural_network\\multilayer_perceptron.py:566: ConvergenceWarning: Stochastic Optimizer: Maximum iterations (200) reached and the optimization hasn't converged yet.\n",
      "  % self.max_iter, ConvergenceWarning)\n"
     ]
    },
    {
     "name": "stdout",
     "output_type": "stream",
     "text": [
      "    fold  1:  [0.89573317]\n"
     ]
    },
    {
     "name": "stderr",
     "output_type": "stream",
     "text": [
      "C:\\Users\\20184731\\AppData\\Local\\Continuum\\anaconda3\\lib\\site-packages\\sklearn\\neural_network\\multilayer_perceptron.py:566: ConvergenceWarning: Stochastic Optimizer: Maximum iterations (200) reached and the optimization hasn't converged yet.\n",
      "  % self.max_iter, ConvergenceWarning)\n"
     ]
    },
    {
     "name": "stdout",
     "output_type": "stream",
     "text": [
      "    fold  2:  [0.89603365]\n"
     ]
    },
    {
     "name": "stderr",
     "output_type": "stream",
     "text": [
      "C:\\Users\\20184731\\AppData\\Local\\Continuum\\anaconda3\\lib\\site-packages\\sklearn\\neural_network\\multilayer_perceptron.py:566: ConvergenceWarning: Stochastic Optimizer: Maximum iterations (200) reached and the optimization hasn't converged yet.\n",
      "  % self.max_iter, ConvergenceWarning)\n"
     ]
    },
    {
     "name": "stdout",
     "output_type": "stream",
     "text": [
      "    fold  3:  [0.90504808]\n"
     ]
    },
    {
     "name": "stderr",
     "output_type": "stream",
     "text": [
      "C:\\Users\\20184731\\AppData\\Local\\Continuum\\anaconda3\\lib\\site-packages\\sklearn\\neural_network\\multilayer_perceptron.py:566: ConvergenceWarning: Stochastic Optimizer: Maximum iterations (200) reached and the optimization hasn't converged yet.\n",
      "  % self.max_iter, ConvergenceWarning)\n"
     ]
    },
    {
     "name": "stdout",
     "output_type": "stream",
     "text": [
      "    fold  4:  [0.89089270]\n"
     ]
    },
    {
     "name": "stderr",
     "output_type": "stream",
     "text": [
      "C:\\Users\\20184731\\AppData\\Local\\Continuum\\anaconda3\\lib\\site-packages\\sklearn\\neural_network\\multilayer_perceptron.py:566: ConvergenceWarning: Stochastic Optimizer: Maximum iterations (200) reached and the optimization hasn't converged yet.\n",
      "  % self.max_iter, ConvergenceWarning)\n"
     ]
    },
    {
     "name": "stdout",
     "output_type": "stream",
     "text": [
      "    fold  5:  [0.88337842]\n",
      "    fold  6:  [0.89510069]\n",
      "    ----\n",
      "    MEAN:     [0.89455998] + [0.00602012]\n",
      "    FULL:     [0.89456060]\n",
      "\n",
      "model  1:     [RandomForestClassifier]\n",
      "    fold  0:  [0.90685096]\n",
      "    fold  1:  [0.89723558]\n",
      "    fold  2:  [0.90294471]\n",
      "    fold  3:  [0.91256010]\n",
      "    fold  4:  [0.90231440]\n",
      "    fold  5:  [0.89540126]\n",
      "    fold  6:  [0.90051097]\n",
      "    ----\n",
      "    MEAN:     [0.90254543] + [0.00537742]\n",
      "    FULL:     [0.90254583]\n",
      "\n",
      "model  2:     [SVC]\n",
      "    fold  0:  [0.89453125]\n",
      "    fold  1:  [0.89152644]\n",
      "    fold  2:  [0.89002404]\n",
      "    fold  3:  [0.89903846]\n",
      "    fold  4:  [0.89179441]\n",
      "    fold  5:  [0.88397956]\n",
      "    fold  6:  [0.89179441]\n",
      "    ----\n",
      "    MEAN:     [0.89181265] + [0.00421294]\n",
      "    FULL:     [0.89181299]\n",
      "\n",
      "model  3:     [XGBClassifier]\n",
      "    fold  0:  [0.91165865]\n",
      "    fold  1:  [0.90444712]\n",
      "    fold  2:  [0.91286058]\n",
      "    fold  3:  [0.92157452]\n",
      "    fold  4:  [0.90952810]\n",
      "    fold  5:  [0.90321611]\n",
      "    fold  6:  [0.91042982]\n",
      "    ----\n",
      "    MEAN:     [0.91053070] + [0.00560860]\n",
      "    FULL:     [0.91053106]\n",
      "\n"
     ]
    }
   ],
   "source": [
    "S_train, S_test = stacking(models,                     # list of models\n",
    "                           SC_xTrain, yTrain, SC_xTest,   # data\n",
    "                           regression=False,           # classification task (if you need \n",
    "                                                       #     regression - set to True)\n",
    "                           mode='oof_pred_bag',        # mode: oof for train set, predict test \n",
    "                                                       #     set in each fold and vote\n",
    "                           needs_proba=False,          # predict class labels (if you need \n",
    "                                                       #     probabilities - set to True) \n",
    "                           metric=accuracy_score,      # metric: callable\n",
    "                           n_folds=7,                  # number of folds\n",
    "                           random_state=1234,             # ensure reproducibility\n",
    "                           verbose=2)                  # print all info"
   ]
  },
  {
   "cell_type": "code",
   "execution_count": 8,
   "metadata": {},
   "outputs": [
    {
     "data": {
      "text/plain": [
       "array([[-1, -1,  2, -1],\n",
       "       [-1, -1, -1, -1],\n",
       "       [-1, -1, -1, -1],\n",
       "       [ 2,  2,  2,  2],\n",
       "       [ 2,  2,  2,  2],\n",
       "       [-1, -1, -1, -1],\n",
       "       [-1, -1, -1, -1],\n",
       "       [ 2,  2,  2,  2],\n",
       "       [-1, -1, -1, -1],\n",
       "       [-1, -1, -1, -1],\n",
       "       [-1, -1, -1, -1],\n",
       "       [-1, -1, -1, -1],\n",
       "       [-1, -1, -1, -1],\n",
       "       [ 2,  2,  2,  2],\n",
       "       [-1, -1, -1, -1],\n",
       "       [-1, -1, -1, -1],\n",
       "       [-1, -1, -1, -1],\n",
       "       [-1, -1, -1, -1],\n",
       "       [-1, -1, -1, -1],\n",
       "       [-1, -1, -1, -1],\n",
       "       [-1, -1, -1, -1],\n",
       "       [-1, -1, -1, -1],\n",
       "       [-1, -1, -1, -1],\n",
       "       [ 2,  2,  2,  2],\n",
       "       [-1, -1, -1, -1],\n",
       "       [-1, -1, -1, -1],\n",
       "       [ 2,  2,  2,  2],\n",
       "       [-1, -1, -1, -1],\n",
       "       [-1, -1, -1, -1],\n",
       "       [-1,  1, -1,  1],\n",
       "       [-1, -1, -1, -1],\n",
       "       [-1, -1, -1, -1],\n",
       "       [-1, -1, -1, -1],\n",
       "       [-1, -1, -1, -1]])"
      ]
     },
     "execution_count": 8,
     "metadata": {},
     "output_type": "execute_result"
    }
   ],
   "source": [
    "S_train[1:35]"
   ]
  },
  {
   "cell_type": "code",
   "execution_count": 9,
   "metadata": {},
   "outputs": [
    {
     "data": {
      "text/plain": [
       "5     -1.0\n",
       "17    -1.0\n",
       "18    -1.0\n",
       "37    -1.0\n",
       "40    -1.0\n",
       "96    -1.0\n",
       "129    2.0\n",
       "132    1.0\n",
       "137    2.0\n",
       "Name: purity, dtype: float64"
      ]
     },
     "execution_count": 9,
     "metadata": {},
     "output_type": "execute_result"
    }
   ],
   "source": [
    "yTest[1:10]"
   ]
  },
  {
   "cell_type": "code",
   "execution_count": 26,
   "metadata": {},
   "outputs": [
    {
     "data": {
      "text/plain": [
       "array([0., 0., 0., 0., 0., 0., 1., 0., 1.])"
      ]
     },
     "execution_count": 26,
     "metadata": {},
     "output_type": "execute_result"
    }
   ],
   "source": [
    " ##df['purity']=df['purity'].apply(lambda x: 0 if x <=1 else 1 )\n",
    "#arr[arr > 255] = x\n",
    "\n",
    "yTest_2_classes = np.copy(yTest)\n",
    "yTest_2_classes[yTest_2_classes <= 1] = 0\n",
    "yTest_2_classes[yTest_2_classes > 1] = 1\n",
    "yTest_2_classes[1:10]"
   ]
  },
  {
   "cell_type": "code",
   "execution_count": 19,
   "metadata": {},
   "outputs": [
    {
     "data": {
      "text/plain": [
       "array([-4, -4, -4, -4, -4, -4,  2, -4,  2,  2, -4, -4, -4, -4, -4,  8, -4,\n",
       "       -1, -4])"
      ]
     },
     "execution_count": 19,
     "metadata": {},
     "output_type": "execute_result"
    }
   ],
   "source": [
    "#vote max.\n",
    "sum_S_test= np.sum(S_test, axis=1)\n",
    "sum_S_test[1:20]"
   ]
  },
  {
   "cell_type": "code",
   "execution_count": 22,
   "metadata": {},
   "outputs": [
    {
     "name": "stdout",
     "output_type": "stream",
     "text": [
      "Final prediction score: [0.93353941]\n",
      "Testing confusion_matrix\n",
      "[[1933   97]\n",
      " [  75  483]]\n",
      "Test accuracy\n",
      "0.9335394126738794\n",
      "Test Percision\n",
      "0.8327586206896552\n",
      "Test recall\n",
      "0.8655913978494624\n",
      "Test F1 score\n",
      "0.8488576449912127\n"
     ]
    }
   ],
   "source": [
    "S_test_Vote_2_classes = np.copy(sum_S_test)\n",
    "S_test_Vote_2_classes[S_test_Vote_2_classes <= 4] = 0\n",
    "S_test_Vote_2_classes[S_test_Vote_2_classes > 4] = 1\n",
    "\n",
    "print('Final prediction score: [%.8f]' % accuracy_score(yTest_2_classes, S_test_Vote_2_classes))\n",
    "\n",
    "print(\"Testing confusion_matrix\")\n",
    "print(confusion_matrix(yTest_2_classes, S_test_Vote_2_classes))\n",
    "print(\"Test accuracy\")\n",
    "print(sklearn.metrics.accuracy_score(yTest_2_classes, S_test_Vote_2_classes))\n",
    "print(\"Test Percision\")\n",
    "print(sklearn.metrics.precision_score(yTest_2_classes, S_test_Vote_2_classes))\n",
    "print(\"Test recall\")\n",
    "print(sklearn.metrics.recall_score(yTest_2_classes, S_test_Vote_2_classes))\n",
    "print(\"Test F1 score\")\n",
    "print(sklearn.metrics.f1_score(yTest_2_classes, S_test_Vote_2_classes))\n"
   ]
  },
  {
   "cell_type": "code",
   "execution_count": 23,
   "metadata": {},
   "outputs": [
    {
     "name": "stdout",
     "output_type": "stream",
     "text": [
      "Final prediction score: [0.90996909]\n"
     ]
    }
   ],
   "source": [
    "from sklearn.linear_model import LogisticRegression\n",
    "# Initialize 2nd level model\n",
    "metaModel_XGB = XGBClassifier(max_depth=10,random_state=1234, n_estimators=100)\n",
    "\n",
    "# Fit 2nd level model\n",
    "clf_meta_xgb = metaModel_XGB.fit(S_train, yTrain)\n",
    "\n",
    "# Predict\n",
    "y_pred = clf_meta_xgb.predict(S_test)\n",
    "\n",
    "# Final prediction score\n",
    "print('Final prediction score: [%.8f]' % accuracy_score(yTest, y_pred))"
   ]
  },
  {
   "cell_type": "code",
   "execution_count": 27,
   "metadata": {},
   "outputs": [
    {
     "name": "stdout",
     "output_type": "stream",
     "text": [
      "Final prediction score: [0.94010819]\n",
      "Testing confusion_matrix\n",
      "[[1932   98]\n",
      " [  57  501]]\n",
      "Test accuracy\n",
      "0.9401081916537867\n",
      "Test Percision\n",
      "0.8363939899833055\n",
      "Test recall\n",
      "0.8978494623655914\n",
      "Test F1 score\n",
      "0.8660328435609335\n"
     ]
    }
   ],
   "source": [
    "y_pred_2_classes = np.copy(y_pred)\n",
    "\n",
    "y_pred_2_classes[y_pred_2_classes <= 1] = 0\n",
    "y_pred_2_classes[y_pred_2_classes > 1] = 1\n",
    "\n",
    "print('Final prediction score: [%.8f]' % accuracy_score(yTest_2_classes, y_pred_2_classes))\n",
    "\n",
    "print(\"Testing confusion_matrix\")\n",
    "print(confusion_matrix(yTest_2_classes, y_pred_2_classes))\n",
    "print(\"Test accuracy\")\n",
    "print(sklearn.metrics.accuracy_score(yTest_2_classes, y_pred_2_classes))\n",
    "print(\"Test Percision\")\n",
    "print(sklearn.metrics.precision_score(yTest_2_classes, y_pred_2_classes))\n",
    "print(\"Test recall\")\n",
    "print(sklearn.metrics.recall_score(yTest_2_classes, y_pred_2_classes))\n",
    "print(\"Test F1 score\")\n",
    "print(sklearn.metrics.f1_score(yTest_2_classes, y_pred_2_classes))"
   ]
  },
  {
   "cell_type": "code",
   "execution_count": null,
   "metadata": {},
   "outputs": [],
   "source": []
  }
 ],
 "metadata": {
  "kernelspec": {
   "display_name": "Python 3",
   "language": "python",
   "name": "python3"
  },
  "language_info": {
   "codemirror_mode": {
    "name": "ipython",
    "version": 3
   },
   "file_extension": ".py",
   "mimetype": "text/x-python",
   "name": "python",
   "nbconvert_exporter": "python",
   "pygments_lexer": "ipython3",
   "version": "3.7.1"
  }
 },
 "nbformat": 4,
 "nbformat_minor": 4
}
