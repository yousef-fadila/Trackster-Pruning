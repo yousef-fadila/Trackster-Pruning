{
 "cells": [
  {
   "cell_type": "code",
   "execution_count": 32,
   "metadata": {},
   "outputs": [],
   "source": [
    "import pandas as pd\n",
    "from sklearn.tree import DecisionTreeClassifier\n",
    "import numpy as np\n",
    "from sklearn.metrics import confusion_matrix, accuracy_score,roc_curve\n",
    "import sklearn"
   ]
  },
  {
   "cell_type": "code",
   "execution_count": 33,
   "metadata": {},
   "outputs": [],
   "source": [
    "df = pd.read_hdf(\"singlepi_e100GeV_pu200_oct27.h5\")"
   ]
  },
  {
   "cell_type": "code",
   "execution_count": 34,
   "metadata": {},
   "outputs": [],
   "source": [
    "#remove highly corrleated features \n",
    "clean_df = df.drop(['eta','phi','layer','trckPhi','trckEn','trckEta','trckType'],1,inplace=False)"
   ]
  },
  {
   "cell_type": "code",
   "execution_count": 35,
   "metadata": {},
   "outputs": [],
   "source": [
    "clean_df['purity']=clean_df['purity'].apply(lambda x: 0 if x <=1 else 1 )\n",
    "\n",
    "trainDF=clean_df.sample(frac=0.8,random_state=200) #random state is a seed value\n",
    "testDF=clean_df.drop(trainDF.index)\n",
    "\n",
    "yTrain = trainDF[['purity']].iloc[:,0]\n",
    "yTest =  testDF[['purity']].iloc[:,0]\n",
    "\n",
    "xTrain = trainDF.drop(['purity','event','trackster'],1,inplace=False)\n",
    "xTest = testDF.drop(['purity','event','trackster'],1,inplace=False)"
   ]
  },
  {
   "cell_type": "code",
   "execution_count": 36,
   "metadata": {},
   "outputs": [
    {
     "name": "stdout",
     "output_type": "stream",
     "text": [
      "Testing confusion_matrix\n",
      "[[4898  282]\n",
      " [ 232 1043]]\n",
      "Test accuracy\n",
      "0.9203718048024787\n",
      "Test Percision\n",
      "0.7871698113207547\n",
      "Test recall\n",
      "0.8180392156862745\n",
      "Test F1 score\n",
      "0.8023076923076923\n"
     ]
    }
   ],
   "source": [
    "clf0 = DecisionTreeClassifier().fit(xTrain, yTrain)\n",
    "y0TestPred = clf0.predict(xTest) \n",
    "y0TestPredProba = clf0.predict_proba(xTest)\n",
    "\n",
    "print(\"Testing confusion_matrix\")\n",
    "print(confusion_matrix(yTest, y0TestPred))\n",
    "\n",
    "print(\"Test accuracy\")\n",
    "print(sklearn.metrics.accuracy_score(yTest, y0TestPred))\n",
    "print(\"Test Percision\")\n",
    "print(sklearn.metrics.precision_score(yTest, y0TestPred))\n",
    "print(\"Test recall\")\n",
    "print(sklearn.metrics.recall_score(yTest, y0TestPred))\n",
    "print(\"Test F1 score\")\n",
    "print(sklearn.metrics.f1_score(yTest, y0TestPred))"
   ]
  },
  {
   "cell_type": "code",
   "execution_count": 37,
   "metadata": {},
   "outputs": [
    {
     "name": "stdout",
     "output_type": "stream",
     "text": [
      "Requirement already satisfied: sklearn-porter in c:\\users\\20184731\\appdata\\local\\continuum\\anaconda3\\lib\\site-packages (0.7.3)\n",
      "Requirement already satisfied: six in c:\\users\\20184731\\appdata\\local\\continuum\\anaconda3\\lib\\site-packages (from sklearn-porter) (1.12.0)\n",
      "Requirement already satisfied: scikit-learn>=0.14.1 in c:\\users\\20184731\\appdata\\local\\continuum\\anaconda3\\lib\\site-packages (from sklearn-porter) (0.21.2)\n",
      "Requirement already satisfied: numpy>=1.11.0 in c:\\users\\20184731\\appdata\\local\\continuum\\anaconda3\\lib\\site-packages (from scikit-learn>=0.14.1->sklearn-porter) (1.16.4)\n",
      "Requirement already satisfied: scipy>=0.17.0 in c:\\users\\20184731\\appdata\\local\\continuum\\anaconda3\\lib\\site-packages (from scikit-learn>=0.14.1->sklearn-porter) (1.2.1)\n",
      "Requirement already satisfied: joblib>=0.11 in c:\\users\\20184731\\appdata\\local\\continuum\\anaconda3\\lib\\site-packages (from scikit-learn>=0.14.1->sklearn-porter) (0.13.2)\n"
     ]
    }
   ],
   "source": [
    "!pip install sklearn-porter"
   ]
  },
  {
   "cell_type": "code",
   "execution_count": 38,
   "metadata": {},
   "outputs": [],
   "source": [
    "from sklearn_porter import Porter\n",
    "porter = Porter(clf0, language='C')\n",
    "output = porter.export()"
   ]
  },
  {
   "cell_type": "code",
   "execution_count": 40,
   "metadata": {},
   "outputs": [],
   "source": [
    "text_file = open(\"output.c\", \"w\")\n",
    "n = text_file.write(output)\n",
    "text_file.close()"
   ]
  },
  {
   "cell_type": "raw",
   "metadata": {},
   "source": [
    "#example of the genereted c code: - full code in output.c\n",
    "\n",
    "int lChilds[3577] = {1, 2, 3, 4, 5, 6, 7, 8, 9,..}\n",
    "int rChilds[3577] = {2094, 2003, 328, 169, 110,..}\n",
    "double thresholds[3577] = {347.82000732421875, 0.938752144575119, 92.79907608032227,..}\n",
    "int indices[3577] = {3, 0, 1, 2, 1, 1, 3, 1, 3, -2, 2, 2, -2, -2, -2, 1, -2, 3,..}\n",
    "int classes[3577][2] = {{20783, 5036}, {18240, 1778}, {18119, 1303}, {10264, 156}, {8539, 54},..}\n",
    "\n",
    "int findMax(int nums[N_CLASSES]) {\n",
    "    int index = 0;\n",
    "    for (int i = 0; i < N_CLASSES; i++) {\n",
    "        index = nums[i] > nums[index] ? i : index;\n",
    "    }\n",
    "    return index;\n",
    "}\n",
    "\n",
    "int predict(double features[N_FEATURES], int node) {\n",
    "    if (thresholds[node] != -2) {\n",
    "        if (features[indices[node]] <= thresholds[node]) {\n",
    "            return predict(features, lChilds[node]);\n",
    "        } else {\n",
    "            return predict(features, rChilds[node]);\n",
    "        }\n",
    "    }\n",
    "    return findMax(classes[node]);\n",
    "}\n",
    "\n",
    "int main(int argc, const char * argv[]) {\n",
    "\n",
    "    /* Features: */\n",
    "    double features[argc-1];\n",
    "    int i;\n",
    "    for (i = 1; i < argc; i++) {\n",
    "        features[i-1] = atof(argv[i]);\n",
    "    }\n",
    "\n",
    "    /* Prediction: */\n",
    "    printf(\"%d\", predict(features, 0));\n",
    "    return 0;\n",
    "\n",
    "}"
   ]
  },
  {
   "cell_type": "code",
   "execution_count": null,
   "metadata": {},
   "outputs": [],
   "source": []
  }
 ],
 "metadata": {
  "kernelspec": {
   "display_name": "Python 3",
   "language": "python",
   "name": "python3"
  },
  "language_info": {
   "codemirror_mode": {
    "name": "ipython",
    "version": 3
   },
   "file_extension": ".py",
   "mimetype": "text/x-python",
   "name": "python",
   "nbconvert_exporter": "python",
   "pygments_lexer": "ipython3",
   "version": "3.7.1"
  }
 },
 "nbformat": 4,
 "nbformat_minor": 4
}
