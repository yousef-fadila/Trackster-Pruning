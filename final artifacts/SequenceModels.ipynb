{
 "cells": [
  {
   "cell_type": "code",
   "execution_count": 70,
   "metadata": {},
   "outputs": [],
   "source": [
    "######################### Basic LSTM with prediction for middle layer ####################\n",
    "# In this notebook we build Sequence Models (LSTM, 1DCNN) for our sequence dataset.\n",
    "# Lets import libraries.\n",
    "import os\n",
    "import pandas as pd\n",
    "import numpy as np\n",
    "from tensorflow.keras.layers import Dense, LSTM, Conv1D,GlobalAveragePooling1D\n",
    "from tensorflow.keras.models import Sequential\n",
    "from tensorflow.keras.callbacks import EarlyStopping\n",
    "from keras.utils.np_utils import to_categorical\n",
    "from sklearn.model_selection import train_test_split\n",
    "from sklearn.metrics import  confusion_matrix\n",
    "from sklearn.metrics import f1_score\n",
    "from sklearn.metrics import roc_curve,roc_auc_score\n",
    "import matplotlib.pyplot as plt\n",
    "\n"
   ]
  },
  {
   "cell_type": "code",
   "execution_count": 6,
   "metadata": {},
   "outputs": [
    {
     "name": "stdout",
     "output_type": "stream",
     "text": [
      "Total Number Of Records in 25-Oct-2019 data : 32274 \n"
     ]
    }
   ],
   "source": [
    "# Lets load the Orginal datset and calculate the variable to noramlize the sequence.\n",
    "store_25_Oct = pd.read_hdf(\"D:/CERN/data/singlepi_e100GeV_pu200_25Oct/singlepi_e100GeV_pu200.h5\")\n",
    "print('Total Number Of Records in 25-Oct-2019 data : {0} '.format(len(store_25_Oct)))\n",
    "\n",
    "mean_E = np.mean(store_25_Oct['E'] )\n",
    "std_E = np.std(store_25_Oct['E'] )\n",
    "\n",
    "mean_eta = np.mean(store_25_Oct['eta'] )\n",
    "std_eta = np.std(store_25_Oct['eta'] )\n",
    "\n",
    "mean_phi = np.mean(store_25_Oct['phi'] )\n",
    "std_phi = np.std(store_25_Oct['phi'] )\n",
    "\n",
    "mean_x = np.mean(store_25_Oct['x'] )\n",
    "std_x = np.std(store_25_Oct['x'] )\n",
    "\n",
    "mean_y = np.mean(store_25_Oct['y'] )\n",
    "std_y = np.std(store_25_Oct['y'] )\n",
    "\n",
    "mean_z = np.mean(store_25_Oct['z'] )\n",
    "std_z = np.std(store_25_Oct['z'] )\n",
    "\n",
    "mean_nHits = np.mean(store_25_Oct['nHits'] )\n",
    "std_nHits = np.std(store_25_Oct['nHits'] )\n",
    "\n",
    "\n",
    "\n"
   ]
  },
  {
   "cell_type": "code",
   "execution_count": 90,
   "metadata": {},
   "outputs": [
    {
     "name": "stdout",
     "output_type": "stream",
     "text": [
      "Total Number Of Sequences of length 3 in 25-Oct-2019 data : 30108 \n"
     ]
    }
   ],
   "source": [
    "# Lets load the sequence dataset which has sequences of length 3 .\n",
    "# Here we use identifier/prefix 'L3' to denote the length of the input sequence; ie L3 means sequence length is 3.\n",
    "L3_immediate_layer_seq_store_25_Oct = pd.read_csv(\"D:/CERN/data/singlepi_e100GeV_pu200_25Oct/L3_immediate_layer_seq_store_25_Oct.csv\")\n",
    "L3_immediate_layer_seq_store_25_Oct.head(1)\n",
    "len(L3_immediate_layer_seq_store_25_Oct)\n",
    "\n",
    "L3_immediate_layer_seq_store_25_Oct_normalized = L3_immediate_layer_seq_store_25_Oct.copy()\n",
    "L3_immediate_layer_seq_store_25_Oct_normalized.head(1)\n",
    "\n",
    "L3_immediate_layer_seq_store_25_Oct_normalized['E'] = (L3_immediate_layer_seq_store_25_Oct_normalized.E - mean_E) / std_E\n",
    "L3_immediate_layer_seq_store_25_Oct_normalized['eta'] = (L3_immediate_layer_seq_store_25_Oct_normalized.eta - mean_eta) / std_eta\n",
    "L3_immediate_layer_seq_store_25_Oct_normalized['phi'] = (L3_immediate_layer_seq_store_25_Oct_normalized.phi - mean_phi) / std_phi\n",
    "L3_immediate_layer_seq_store_25_Oct_normalized['x'] = (L3_immediate_layer_seq_store_25_Oct_normalized.x - mean_x) / std_x\n",
    "L3_immediate_layer_seq_store_25_Oct_normalized['y'] = (L3_immediate_layer_seq_store_25_Oct_normalized.y - mean_y) / std_y\n",
    "L3_immediate_layer_seq_store_25_Oct_normalized['z'] =  (L3_immediate_layer_seq_store_25_Oct_normalized.z - mean_z) / std_z\n",
    "L3_immediate_layer_seq_store_25_Oct_normalized['nHits'] = (L3_immediate_layer_seq_store_25_Oct_normalized.nHits - mean_nHits) / std_nHits\n",
    "\n",
    "\n",
    "\n",
    "total_sequences = L3_immediate_layer_seq_store_25_Oct_normalized.shape[0] //3\n",
    "print('Total Number Of Sequences of length 3 in 25-Oct-2019 data : {0} '.format(total_sequences))"
   ]
  },
  {
   "cell_type": "code",
   "execution_count": 91,
   "metadata": {},
   "outputs": [
    {
     "data": {
      "text/html": [
       "<div>\n",
       "<style scoped>\n",
       "    .dataframe tbody tr th:only-of-type {\n",
       "        vertical-align: middle;\n",
       "    }\n",
       "\n",
       "    .dataframe tbody tr th {\n",
       "        vertical-align: top;\n",
       "    }\n",
       "\n",
       "    .dataframe thead th {\n",
       "        text-align: right;\n",
       "    }\n",
       "</style>\n",
       "<table border=\"1\" class=\"dataframe\">\n",
       "  <thead>\n",
       "    <tr style=\"text-align: right;\">\n",
       "      <th></th>\n",
       "      <th>index_original</th>\n",
       "      <th>sequence_id</th>\n",
       "      <th>event</th>\n",
       "      <th>trackster</th>\n",
       "      <th>purity</th>\n",
       "      <th>layer</th>\n",
       "      <th>E</th>\n",
       "      <th>eta</th>\n",
       "      <th>phi</th>\n",
       "      <th>x</th>\n",
       "      <th>y</th>\n",
       "      <th>z</th>\n",
       "      <th>nHits</th>\n",
       "      <th>trckEn</th>\n",
       "      <th>trckEta</th>\n",
       "      <th>trckPhi</th>\n",
       "      <th>trckType</th>\n",
       "    </tr>\n",
       "  </thead>\n",
       "  <tbody>\n",
       "    <tr>\n",
       "      <th>0</th>\n",
       "      <td>1</td>\n",
       "      <td>1_0_1</td>\n",
       "      <td>1.0</td>\n",
       "      <td>0.0</td>\n",
       "      <td>0.0</td>\n",
       "      <td>1.0</td>\n",
       "      <td>-0.175444</td>\n",
       "      <td>-0.148224</td>\n",
       "      <td>0.639593</td>\n",
       "      <td>-0.082362</td>\n",
       "      <td>0.633005</td>\n",
       "      <td>-0.858269</td>\n",
       "      <td>0.731336</td>\n",
       "      <td>57.759506</td>\n",
       "      <td>1.897144</td>\n",
       "      <td>0.196742</td>\n",
       "      <td>211.0</td>\n",
       "    </tr>\n",
       "    <tr>\n",
       "      <th>1</th>\n",
       "      <td>9</td>\n",
       "      <td>1_0_1</td>\n",
       "      <td>1.0</td>\n",
       "      <td>0.0</td>\n",
       "      <td>0.0</td>\n",
       "      <td>2.0</td>\n",
       "      <td>-0.200869</td>\n",
       "      <td>0.185687</td>\n",
       "      <td>0.620558</td>\n",
       "      <td>-0.324302</td>\n",
       "      <td>0.587929</td>\n",
       "      <td>-0.816664</td>\n",
       "      <td>-0.254089</td>\n",
       "      <td>57.759506</td>\n",
       "      <td>1.897144</td>\n",
       "      <td>0.196742</td>\n",
       "      <td>211.0</td>\n",
       "    </tr>\n",
       "    <tr>\n",
       "      <th>2</th>\n",
       "      <td>23</td>\n",
       "      <td>1_0_1</td>\n",
       "      <td>1.0</td>\n",
       "      <td>0.0</td>\n",
       "      <td>0.0</td>\n",
       "      <td>3.0</td>\n",
       "      <td>-0.262887</td>\n",
       "      <td>0.094513</td>\n",
       "      <td>0.684267</td>\n",
       "      <td>-0.247567</td>\n",
       "      <td>0.659124</td>\n",
       "      <td>-0.727444</td>\n",
       "      <td>-0.500445</td>\n",
       "      <td>57.759506</td>\n",
       "      <td>1.897144</td>\n",
       "      <td>0.196742</td>\n",
       "      <td>211.0</td>\n",
       "    </tr>\n",
       "    <tr>\n",
       "      <th>3</th>\n",
       "      <td>1</td>\n",
       "      <td>1_0_2</td>\n",
       "      <td>1.0</td>\n",
       "      <td>0.0</td>\n",
       "      <td>0.0</td>\n",
       "      <td>1.0</td>\n",
       "      <td>-0.175444</td>\n",
       "      <td>-0.148224</td>\n",
       "      <td>0.639593</td>\n",
       "      <td>-0.082362</td>\n",
       "      <td>0.633005</td>\n",
       "      <td>-0.858269</td>\n",
       "      <td>0.731336</td>\n",
       "      <td>57.759506</td>\n",
       "      <td>1.897144</td>\n",
       "      <td>0.196742</td>\n",
       "      <td>211.0</td>\n",
       "    </tr>\n",
       "    <tr>\n",
       "      <th>4</th>\n",
       "      <td>10</td>\n",
       "      <td>1_0_2</td>\n",
       "      <td>1.0</td>\n",
       "      <td>0.0</td>\n",
       "      <td>0.0</td>\n",
       "      <td>2.0</td>\n",
       "      <td>-0.196511</td>\n",
       "      <td>-0.073152</td>\n",
       "      <td>0.633177</td>\n",
       "      <td>-0.123334</td>\n",
       "      <td>0.622039</td>\n",
       "      <td>-0.816664</td>\n",
       "      <td>-0.254089</td>\n",
       "      <td>57.759506</td>\n",
       "      <td>1.897144</td>\n",
       "      <td>0.196742</td>\n",
       "      <td>211.0</td>\n",
       "    </tr>\n",
       "    <tr>\n",
       "      <th>5</th>\n",
       "      <td>23</td>\n",
       "      <td>1_0_2</td>\n",
       "      <td>1.0</td>\n",
       "      <td>0.0</td>\n",
       "      <td>0.0</td>\n",
       "      <td>3.0</td>\n",
       "      <td>-0.262887</td>\n",
       "      <td>0.094513</td>\n",
       "      <td>0.684267</td>\n",
       "      <td>-0.247567</td>\n",
       "      <td>0.659124</td>\n",
       "      <td>-0.727444</td>\n",
       "      <td>-0.500445</td>\n",
       "      <td>57.759506</td>\n",
       "      <td>1.897144</td>\n",
       "      <td>0.196742</td>\n",
       "      <td>211.0</td>\n",
       "    </tr>\n",
       "    <tr>\n",
       "      <th>6</th>\n",
       "      <td>2</td>\n",
       "      <td>1_0_3</td>\n",
       "      <td>1.0</td>\n",
       "      <td>0.0</td>\n",
       "      <td>0.0</td>\n",
       "      <td>1.0</td>\n",
       "      <td>-0.220151</td>\n",
       "      <td>-0.144319</td>\n",
       "      <td>0.396566</td>\n",
       "      <td>0.012880</td>\n",
       "      <td>0.397149</td>\n",
       "      <td>-0.858269</td>\n",
       "      <td>-0.500445</td>\n",
       "      <td>57.759506</td>\n",
       "      <td>1.897144</td>\n",
       "      <td>0.196742</td>\n",
       "      <td>211.0</td>\n",
       "    </tr>\n",
       "    <tr>\n",
       "      <th>7</th>\n",
       "      <td>11</td>\n",
       "      <td>1_0_3</td>\n",
       "      <td>1.0</td>\n",
       "      <td>0.0</td>\n",
       "      <td>0.0</td>\n",
       "      <td>2.0</td>\n",
       "      <td>-0.078176</td>\n",
       "      <td>-0.028019</td>\n",
       "      <td>0.426719</td>\n",
       "      <td>-0.075648</td>\n",
       "      <td>0.420755</td>\n",
       "      <td>-0.816664</td>\n",
       "      <td>0.238624</td>\n",
       "      <td>57.759506</td>\n",
       "      <td>1.897144</td>\n",
       "      <td>0.196742</td>\n",
       "      <td>211.0</td>\n",
       "    </tr>\n",
       "    <tr>\n",
       "      <th>8</th>\n",
       "      <td>24</td>\n",
       "      <td>1_0_3</td>\n",
       "      <td>1.0</td>\n",
       "      <td>0.0</td>\n",
       "      <td>1.0</td>\n",
       "      <td>3.0</td>\n",
       "      <td>0.545181</td>\n",
       "      <td>-0.299343</td>\n",
       "      <td>0.365483</td>\n",
       "      <td>0.210109</td>\n",
       "      <td>0.378739</td>\n",
       "      <td>-0.727444</td>\n",
       "      <td>2.948540</td>\n",
       "      <td>57.759506</td>\n",
       "      <td>1.897144</td>\n",
       "      <td>0.196742</td>\n",
       "      <td>211.0</td>\n",
       "    </tr>\n",
       "    <tr>\n",
       "      <th>9</th>\n",
       "      <td>3</td>\n",
       "      <td>1_0_4</td>\n",
       "      <td>1.0</td>\n",
       "      <td>0.0</td>\n",
       "      <td>0.0</td>\n",
       "      <td>1.0</td>\n",
       "      <td>-0.268674</td>\n",
       "      <td>-0.007692</td>\n",
       "      <td>1.003738</td>\n",
       "      <td>-0.420212</td>\n",
       "      <td>0.957504</td>\n",
       "      <td>-0.858269</td>\n",
       "      <td>-0.500445</td>\n",
       "      <td>57.759506</td>\n",
       "      <td>1.897144</td>\n",
       "      <td>0.196742</td>\n",
       "      <td>211.0</td>\n",
       "    </tr>\n",
       "    <tr>\n",
       "      <th>10</th>\n",
       "      <td>12</td>\n",
       "      <td>1_0_4</td>\n",
       "      <td>1.0</td>\n",
       "      <td>0.0</td>\n",
       "      <td>0.0</td>\n",
       "      <td>2.0</td>\n",
       "      <td>-0.269926</td>\n",
       "      <td>0.073232</td>\n",
       "      <td>0.934669</td>\n",
       "      <td>-0.417029</td>\n",
       "      <td>0.887127</td>\n",
       "      <td>-0.816664</td>\n",
       "      <td>-0.500445</td>\n",
       "      <td>57.759506</td>\n",
       "      <td>1.897144</td>\n",
       "      <td>0.196742</td>\n",
       "      <td>211.0</td>\n",
       "    </tr>\n",
       "    <tr>\n",
       "      <th>11</th>\n",
       "      <td>29</td>\n",
       "      <td>1_0_4</td>\n",
       "      <td>1.0</td>\n",
       "      <td>0.0</td>\n",
       "      <td>0.0</td>\n",
       "      <td>3.0</td>\n",
       "      <td>-0.057056</td>\n",
       "      <td>0.099306</td>\n",
       "      <td>0.853921</td>\n",
       "      <td>-0.348796</td>\n",
       "      <td>0.815761</td>\n",
       "      <td>-0.727444</td>\n",
       "      <td>0.977692</td>\n",
       "      <td>57.759506</td>\n",
       "      <td>1.897144</td>\n",
       "      <td>0.196742</td>\n",
       "      <td>211.0</td>\n",
       "    </tr>\n",
       "    <tr>\n",
       "      <th>12</th>\n",
       "      <td>1</td>\n",
       "      <td>1_0_5</td>\n",
       "      <td>1.0</td>\n",
       "      <td>0.0</td>\n",
       "      <td>0.0</td>\n",
       "      <td>1.0</td>\n",
       "      <td>-0.175444</td>\n",
       "      <td>-0.148224</td>\n",
       "      <td>0.639593</td>\n",
       "      <td>-0.082362</td>\n",
       "      <td>0.633005</td>\n",
       "      <td>-0.858269</td>\n",
       "      <td>0.731336</td>\n",
       "      <td>57.759506</td>\n",
       "      <td>1.897144</td>\n",
       "      <td>0.196742</td>\n",
       "      <td>211.0</td>\n",
       "    </tr>\n",
       "    <tr>\n",
       "      <th>13</th>\n",
       "      <td>13</td>\n",
       "      <td>1_0_5</td>\n",
       "      <td>1.0</td>\n",
       "      <td>0.0</td>\n",
       "      <td>0.0</td>\n",
       "      <td>2.0</td>\n",
       "      <td>-0.263892</td>\n",
       "      <td>0.260887</td>\n",
       "      <td>0.683461</td>\n",
       "      <td>-0.413009</td>\n",
       "      <td>0.638905</td>\n",
       "      <td>-0.816664</td>\n",
       "      <td>-0.500445</td>\n",
       "      <td>57.759506</td>\n",
       "      <td>1.897144</td>\n",
       "      <td>0.196742</td>\n",
       "      <td>211.0</td>\n",
       "    </tr>\n",
       "    <tr>\n",
       "      <th>14</th>\n",
       "      <td>23</td>\n",
       "      <td>1_0_5</td>\n",
       "      <td>1.0</td>\n",
       "      <td>0.0</td>\n",
       "      <td>0.0</td>\n",
       "      <td>3.0</td>\n",
       "      <td>-0.262887</td>\n",
       "      <td>0.094513</td>\n",
       "      <td>0.684267</td>\n",
       "      <td>-0.247567</td>\n",
       "      <td>0.659124</td>\n",
       "      <td>-0.727444</td>\n",
       "      <td>-0.500445</td>\n",
       "      <td>57.759506</td>\n",
       "      <td>1.897144</td>\n",
       "      <td>0.196742</td>\n",
       "      <td>211.0</td>\n",
       "    </tr>\n",
       "    <tr>\n",
       "      <th>15</th>\n",
       "      <td>3</td>\n",
       "      <td>1_0_6</td>\n",
       "      <td>1.0</td>\n",
       "      <td>0.0</td>\n",
       "      <td>0.0</td>\n",
       "      <td>1.0</td>\n",
       "      <td>-0.268674</td>\n",
       "      <td>-0.007692</td>\n",
       "      <td>1.003738</td>\n",
       "      <td>-0.420212</td>\n",
       "      <td>0.957504</td>\n",
       "      <td>-0.858269</td>\n",
       "      <td>-0.500445</td>\n",
       "      <td>57.759506</td>\n",
       "      <td>1.897144</td>\n",
       "      <td>0.196742</td>\n",
       "      <td>211.0</td>\n",
       "    </tr>\n",
       "    <tr>\n",
       "      <th>16</th>\n",
       "      <td>14</td>\n",
       "      <td>1_0_6</td>\n",
       "      <td>1.0</td>\n",
       "      <td>0.0</td>\n",
       "      <td>0.0</td>\n",
       "      <td>2.0</td>\n",
       "      <td>-0.187795</td>\n",
       "      <td>0.062099</td>\n",
       "      <td>0.846487</td>\n",
       "      <td>-0.350343</td>\n",
       "      <td>0.808025</td>\n",
       "      <td>-0.816664</td>\n",
       "      <td>-0.254089</td>\n",
       "      <td>57.759506</td>\n",
       "      <td>1.897144</td>\n",
       "      <td>0.196742</td>\n",
       "      <td>211.0</td>\n",
       "    </tr>\n",
       "    <tr>\n",
       "      <th>17</th>\n",
       "      <td>29</td>\n",
       "      <td>1_0_6</td>\n",
       "      <td>1.0</td>\n",
       "      <td>0.0</td>\n",
       "      <td>0.0</td>\n",
       "      <td>3.0</td>\n",
       "      <td>-0.057056</td>\n",
       "      <td>0.099306</td>\n",
       "      <td>0.853921</td>\n",
       "      <td>-0.348796</td>\n",
       "      <td>0.815761</td>\n",
       "      <td>-0.727444</td>\n",
       "      <td>0.977692</td>\n",
       "      <td>57.759506</td>\n",
       "      <td>1.897144</td>\n",
       "      <td>0.196742</td>\n",
       "      <td>211.0</td>\n",
       "    </tr>\n",
       "  </tbody>\n",
       "</table>\n",
       "</div>"
      ],
      "text/plain": [
       "    index_original sequence_id  event  trackster  purity  layer         E  \\\n",
       "0                1       1_0_1    1.0        0.0     0.0    1.0 -0.175444   \n",
       "1                9       1_0_1    1.0        0.0     0.0    2.0 -0.200869   \n",
       "2               23       1_0_1    1.0        0.0     0.0    3.0 -0.262887   \n",
       "3                1       1_0_2    1.0        0.0     0.0    1.0 -0.175444   \n",
       "4               10       1_0_2    1.0        0.0     0.0    2.0 -0.196511   \n",
       "5               23       1_0_2    1.0        0.0     0.0    3.0 -0.262887   \n",
       "6                2       1_0_3    1.0        0.0     0.0    1.0 -0.220151   \n",
       "7               11       1_0_3    1.0        0.0     0.0    2.0 -0.078176   \n",
       "8               24       1_0_3    1.0        0.0     1.0    3.0  0.545181   \n",
       "9                3       1_0_4    1.0        0.0     0.0    1.0 -0.268674   \n",
       "10              12       1_0_4    1.0        0.0     0.0    2.0 -0.269926   \n",
       "11              29       1_0_4    1.0        0.0     0.0    3.0 -0.057056   \n",
       "12               1       1_0_5    1.0        0.0     0.0    1.0 -0.175444   \n",
       "13              13       1_0_5    1.0        0.0     0.0    2.0 -0.263892   \n",
       "14              23       1_0_5    1.0        0.0     0.0    3.0 -0.262887   \n",
       "15               3       1_0_6    1.0        0.0     0.0    1.0 -0.268674   \n",
       "16              14       1_0_6    1.0        0.0     0.0    2.0 -0.187795   \n",
       "17              29       1_0_6    1.0        0.0     0.0    3.0 -0.057056   \n",
       "\n",
       "         eta       phi         x         y         z     nHits     trckEn  \\\n",
       "0  -0.148224  0.639593 -0.082362  0.633005 -0.858269  0.731336  57.759506   \n",
       "1   0.185687  0.620558 -0.324302  0.587929 -0.816664 -0.254089  57.759506   \n",
       "2   0.094513  0.684267 -0.247567  0.659124 -0.727444 -0.500445  57.759506   \n",
       "3  -0.148224  0.639593 -0.082362  0.633005 -0.858269  0.731336  57.759506   \n",
       "4  -0.073152  0.633177 -0.123334  0.622039 -0.816664 -0.254089  57.759506   \n",
       "5   0.094513  0.684267 -0.247567  0.659124 -0.727444 -0.500445  57.759506   \n",
       "6  -0.144319  0.396566  0.012880  0.397149 -0.858269 -0.500445  57.759506   \n",
       "7  -0.028019  0.426719 -0.075648  0.420755 -0.816664  0.238624  57.759506   \n",
       "8  -0.299343  0.365483  0.210109  0.378739 -0.727444  2.948540  57.759506   \n",
       "9  -0.007692  1.003738 -0.420212  0.957504 -0.858269 -0.500445  57.759506   \n",
       "10  0.073232  0.934669 -0.417029  0.887127 -0.816664 -0.500445  57.759506   \n",
       "11  0.099306  0.853921 -0.348796  0.815761 -0.727444  0.977692  57.759506   \n",
       "12 -0.148224  0.639593 -0.082362  0.633005 -0.858269  0.731336  57.759506   \n",
       "13  0.260887  0.683461 -0.413009  0.638905 -0.816664 -0.500445  57.759506   \n",
       "14  0.094513  0.684267 -0.247567  0.659124 -0.727444 -0.500445  57.759506   \n",
       "15 -0.007692  1.003738 -0.420212  0.957504 -0.858269 -0.500445  57.759506   \n",
       "16  0.062099  0.846487 -0.350343  0.808025 -0.816664 -0.254089  57.759506   \n",
       "17  0.099306  0.853921 -0.348796  0.815761 -0.727444  0.977692  57.759506   \n",
       "\n",
       "     trckEta   trckPhi  trckType  \n",
       "0   1.897144  0.196742     211.0  \n",
       "1   1.897144  0.196742     211.0  \n",
       "2   1.897144  0.196742     211.0  \n",
       "3   1.897144  0.196742     211.0  \n",
       "4   1.897144  0.196742     211.0  \n",
       "5   1.897144  0.196742     211.0  \n",
       "6   1.897144  0.196742     211.0  \n",
       "7   1.897144  0.196742     211.0  \n",
       "8   1.897144  0.196742     211.0  \n",
       "9   1.897144  0.196742     211.0  \n",
       "10  1.897144  0.196742     211.0  \n",
       "11  1.897144  0.196742     211.0  \n",
       "12  1.897144  0.196742     211.0  \n",
       "13  1.897144  0.196742     211.0  \n",
       "14  1.897144  0.196742     211.0  \n",
       "15  1.897144  0.196742     211.0  \n",
       "16  1.897144  0.196742     211.0  \n",
       "17  1.897144  0.196742     211.0  "
      ]
     },
     "execution_count": 91,
     "metadata": {},
     "output_type": "execute_result"
    }
   ],
   "source": [
    "L3_immediate_layer_seq_store_25_Oct_normalized.head(18)"
   ]
  },
  {
   "cell_type": "code",
   "execution_count": 92,
   "metadata": {},
   "outputs": [],
   "source": [
    "# The store_25_Oct has 3 purtity values (0 => Pileup,1 => Pileup + Pure ,2 => Pure ie NO Pileup),\n",
    "# These values define the purtity of a layer cluster.\n",
    "# For a Binary Classifier Problem, lets convert purity == 0 & 1 as Pileup label (0), and purity == 2 as Non-Pileup label (1)\n",
    "\n",
    "L3_binary_labels_1D = L3_immediate_layer_seq_store_25_Oct_normalized.purity[1::3].copy()\n"
   ]
  },
  {
   "cell_type": "code",
   "execution_count": 93,
   "metadata": {},
   "outputs": [
    {
     "data": {
      "text/plain": [
       "1        0.0\n",
       "4        0.0\n",
       "7        0.0\n",
       "10       0.0\n",
       "13       0.0\n",
       "        ... \n",
       "90310    2.0\n",
       "90313    2.0\n",
       "90316    2.0\n",
       "90319    2.0\n",
       "90322    2.0\n",
       "Name: purity, Length: 30108, dtype: float64"
      ]
     },
     "execution_count": 93,
     "metadata": {},
     "output_type": "execute_result"
    }
   ],
   "source": [
    "L3_binary_labels_1D"
   ]
  },
  {
   "cell_type": "code",
   "execution_count": 94,
   "metadata": {},
   "outputs": [
    {
     "data": {
      "text/plain": [
       "0.0    22415\n",
       "2.0     5814\n",
       "1.0     1879\n",
       "Name: purity, dtype: int64"
      ]
     },
     "execution_count": 94,
     "metadata": {},
     "output_type": "execute_result"
    }
   ],
   "source": [
    "L3_binary_labels_1D.value_counts()\n"
   ]
  },
  {
   "cell_type": "code",
   "execution_count": 95,
   "metadata": {},
   "outputs": [],
   "source": [
    "L3_binary_labels_1D.where(L3_binary_labels_1D == 2.0 , 0.0 , inplace = True )\n"
   ]
  },
  {
   "cell_type": "code",
   "execution_count": 96,
   "metadata": {},
   "outputs": [
    {
     "data": {
      "text/plain": [
       "0.0    24294\n",
       "2.0     5814\n",
       "Name: purity, dtype: int64"
      ]
     },
     "execution_count": 96,
     "metadata": {},
     "output_type": "execute_result"
    }
   ],
   "source": [
    "L3_binary_labels_1D.value_counts()"
   ]
  },
  {
   "cell_type": "code",
   "execution_count": 97,
   "metadata": {},
   "outputs": [],
   "source": [
    "L3_binary_labels_1D.where(L3_binary_labels_1D == 0.0 , 1.0 , inplace = True )\n"
   ]
  },
  {
   "cell_type": "code",
   "execution_count": 98,
   "metadata": {},
   "outputs": [
    {
     "data": {
      "text/plain": [
       "0.0    24294\n",
       "1.0     5814\n",
       "Name: purity, dtype: int64"
      ]
     },
     "execution_count": 98,
     "metadata": {},
     "output_type": "execute_result"
    }
   ],
   "source": [
    "L3_binary_labels_1D.value_counts()"
   ]
  },
  {
   "cell_type": "code",
   "execution_count": 99,
   "metadata": {},
   "outputs": [],
   "source": [
    "L3_binary_labels_1D = L3_binary_labels_1D.values\n"
   ]
  },
  {
   "cell_type": "code",
   "execution_count": 100,
   "metadata": {},
   "outputs": [
    {
     "name": "stdout",
     "output_type": "stream",
     "text": [
      "Total Number Of Output Labels should be equal to Total Number Of Sequnces, which are: 30108 \n",
      "Total Number Of Output Labels : (30108,) \n"
     ]
    }
   ],
   "source": [
    "L3_binary_labels_1D.shape\n",
    "print('Total Number Of Output Labels should be equal to Total Number Of Sequnces, which are: {0} '.format(total_sequences))\n",
    "print('Total Number Of Output Labels : {0} '.format(L3_binary_labels_1D.shape))"
   ]
  },
  {
   "cell_type": "code",
   "execution_count": 131,
   "metadata": {},
   "outputs": [
    {
     "name": "stdout",
     "output_type": "stream",
     "text": [
      "Total Number Of Output Labels should be equal to Total Number Of Sequnces, which are: 30108 \n",
      "Total Number Of Output Labels : (30108, 2) \n"
     ]
    }
   ],
   "source": [
    "# Categorical representation\n",
    "L3_binary_labels_2D = L3_immediate_layer_seq_store_25_Oct_normalized.purity[1::3].copy()\n",
    "L3_binary_labels_2D.value_counts()\n",
    "\n",
    "L3_binary_labels_2D.where(L3_binary_labels_2D == 2.0 , 0.0 , inplace = True )\n",
    "\n",
    "L3_binary_labels_2D.where(L3_binary_labels_2D == 0.0 , 1.0 , inplace = True )\n",
    "\n",
    "L3_binary_labels_2D = L3_binary_labels_2D.values\n",
    "\n",
    "L3_binary_labels_2D = to_categorical(L3_binary_labels_2D, num_classes = 2)\n",
    "\n",
    "print('Total Number Of Output Labels should be equal to Total Number Of Sequnces, which are: {0} '.format(total_sequences))\n",
    "print('Total Number Of Output Labels : {0} '.format(L3_binary_labels_2D.shape))"
   ]
  },
  {
   "cell_type": "code",
   "execution_count": 132,
   "metadata": {},
   "outputs": [
    {
     "data": {
      "text/plain": [
       "(30108, 3, 5)"
      ]
     },
     "execution_count": 132,
     "metadata": {},
     "output_type": "execute_result"
    }
   ],
   "source": [
    "# Lets create a numpy array of dimension (total_sequences, individual_seq_length,  number_of_features)\n",
    "columns_for_model =  [ 'E', 'x', 'y', 'z','nHits']\n",
    "L3_immediate_layer_sequences_array_25_Oct_normalized =  np.zeros((total_sequences, 3,  5))\n",
    "L3_immediate_layer_sequences_array_25_Oct_normalized.shape\n"
   ]
  },
  {
   "cell_type": "code",
   "execution_count": 133,
   "metadata": {},
   "outputs": [
    {
     "name": "stdout",
     "output_type": "stream",
     "text": [
      "Total L3 Unique Sequences: 30108 \n"
     ]
    }
   ],
   "source": [
    "L3_unique_seq_id = L3_immediate_layer_seq_store_25_Oct_normalized.sequence_id.unique()\n",
    "print('Total L3 Unique Sequences: {0} '.format(len(L3_unique_seq_id)))\n"
   ]
  },
  {
   "cell_type": "code",
   "execution_count": 134,
   "metadata": {},
   "outputs": [],
   "source": [
    "# Populate the Array\n",
    "for i,seq_id in enumerate(L3_unique_seq_id):\n",
    "    L3_immediate_layer_sequences_array_25_Oct_normalized[i] = L3_immediate_layer_seq_store_25_Oct_normalized[L3_immediate_layer_seq_store_25_Oct_normalized.sequence_id == seq_id][columns_for_model].values"
   ]
  },
  {
   "cell_type": "code",
   "execution_count": 135,
   "metadata": {},
   "outputs": [
    {
     "name": "stdout",
     "output_type": "stream",
     "text": [
      "Shape of L3_X_train_binary tensor: (22581, 3, 5)\n",
      "Shape of L3_y_train_binary tensor: (22581, 2)\n",
      "Shape of L3_X_test_binary tensor: (7527, 3, 5)\n",
      "Shape of L3_y_test_binary tensor: (7527, 2)\n"
     ]
    }
   ],
   "source": [
    "# Split the Train and test data into 75-25\n",
    "L3_X_train_binary, L3_X_test_binary, L3_y_train_binary, L3_y_test_binary = train_test_split(L3_immediate_layer_sequences_array_25_Oct_normalized , L3_binary_labels_2D, test_size=0.25, random_state=42)\n",
    "print('Shape of L3_X_train_binary tensor:', L3_X_train_binary.shape)\n",
    "print('Shape of L3_y_train_binary tensor:', L3_y_train_binary.shape)\n",
    "print('Shape of L3_X_test_binary tensor:', L3_X_test_binary.shape)\n",
    "print('Shape of L3_y_test_binary tensor:', L3_y_test_binary.shape)\n"
   ]
  },
  {
   "cell_type": "code",
   "execution_count": 136,
   "metadata": {},
   "outputs": [
    {
     "name": "stdout",
     "output_type": "stream",
     "text": [
      "Model: \"sequential_8\"\n",
      "_________________________________________________________________\n",
      "Layer (type)                 Output Shape              Param #   \n",
      "=================================================================\n",
      "lstm_4 (LSTM)                (None, 32)                4864      \n",
      "_________________________________________________________________\n",
      "dense_7 (Dense)              (None, 2)                 66        \n",
      "=================================================================\n",
      "Total params: 4,930\n",
      "Trainable params: 4,930\n",
      "Non-trainable params: 0\n",
      "_________________________________________________________________\n",
      "None\n"
     ]
    }
   ],
   "source": [
    "# Lets Train a LSTM on L3  data\n",
    "L3_model_LSTM_binary = Sequential()\n",
    "L3_model_LSTM_binary.add(LSTM(32, dropout=0.2, recurrent_dropout=0.2, input_shape=(None, 5)))\n",
    "L3_model_LSTM_binary.add(Dense(2, activation='sigmoid'))\n",
    "L3_model_LSTM_binary.compile(loss='binary_crossentropy', optimizer='adam', metrics=['accuracy'])\n",
    "print(L3_model_LSTM_binary.summary())"
   ]
  },
  {
   "cell_type": "code",
   "execution_count": 137,
   "metadata": {},
   "outputs": [
    {
     "name": "stdout",
     "output_type": "stream",
     "text": [
      "Train on 18064 samples, validate on 4517 samples\n",
      "Epoch 1/200\n",
      "18064/18064 [==============================] - 6s 306us/sample - loss: 0.3114 - accuracy: 0.8879 - val_loss: 0.2256 - val_accuracy: 0.9089\n",
      "Epoch 2/200\n",
      "18064/18064 [==============================] - 3s 153us/sample - loss: 0.2532 - accuracy: 0.9014 - val_loss: 0.2144 - val_accuracy: 0.9113\n",
      "Epoch 3/200\n",
      "18064/18064 [==============================] - 3s 158us/sample - loss: 0.2497 - accuracy: 0.9019 - val_loss: 0.2139 - val_accuracy: 0.9128\n",
      "Epoch 4/200\n",
      "18064/18064 [==============================] - 3s 154us/sample - loss: 0.2461 - accuracy: 0.9019 - val_loss: 0.2079 - val_accuracy: 0.9138\n",
      "Epoch 5/200\n",
      "18064/18064 [==============================] - 3s 154us/sample - loss: 0.2435 - accuracy: 0.9024 - val_loss: 0.2067 - val_accuracy: 0.9117\n",
      "Epoch 6/200\n",
      "18064/18064 [==============================] - 3s 154us/sample - loss: 0.2422 - accuracy: 0.9038 - val_loss: 0.2056 - val_accuracy: 0.9129\n",
      "Epoch 7/200\n",
      "18064/18064 [==============================] - 3s 155us/sample - loss: 0.2400 - accuracy: 0.9032 - val_loss: 0.2054 - val_accuracy: 0.9128\n",
      "Epoch 8/200\n",
      "18064/18064 [==============================] - 3s 154us/sample - loss: 0.2392 - accuracy: 0.9041 - val_loss: 0.2038 - val_accuracy: 0.9123\n",
      "Epoch 9/200\n",
      "18064/18064 [==============================] - 3s 155us/sample - loss: 0.2387 - accuracy: 0.9054 - val_loss: 0.2031 - val_accuracy: 0.9143\n",
      "Epoch 10/200\n",
      "18064/18064 [==============================] - 3s 153us/sample - loss: 0.2363 - accuracy: 0.9064 - val_loss: 0.2028 - val_accuracy: 0.9131\n",
      "Epoch 11/200\n",
      "18064/18064 [==============================] - 3s 155us/sample - loss: 0.2388 - accuracy: 0.9031 - val_loss: 0.2025 - val_accuracy: 0.9122\n",
      "Epoch 12/200\n",
      "18064/18064 [==============================] - 3s 154us/sample - loss: 0.2361 - accuracy: 0.9054 - val_loss: 0.2030 - val_accuracy: 0.9141\n",
      "Epoch 13/200\n",
      "18064/18064 [==============================] - 3s 155us/sample - loss: 0.2377 - accuracy: 0.9035 - val_loss: 0.2030 - val_accuracy: 0.9140\n",
      "Epoch 14/200\n",
      "18064/18064 [==============================] - 3s 161us/sample - loss: 0.2348 - accuracy: 0.9054 - val_loss: 0.2013 - val_accuracy: 0.9149\n",
      "Epoch 15/200\n",
      "18064/18064 [==============================] - 3s 157us/sample - loss: 0.2343 - accuracy: 0.9070 - val_loss: 0.2010 - val_accuracy: 0.9140\n",
      "Epoch 16/200\n",
      "18064/18064 [==============================] - 3s 156us/sample - loss: 0.2338 - accuracy: 0.9081 - val_loss: 0.2008 - val_accuracy: 0.9141\n",
      "Epoch 17/200\n",
      "18064/18064 [==============================] - 3s 156us/sample - loss: 0.2363 - accuracy: 0.9046 - val_loss: 0.2016 - val_accuracy: 0.9144\n",
      "Epoch 18/200\n",
      "18064/18064 [==============================] - 3s 156us/sample - loss: 0.2349 - accuracy: 0.9056 - val_loss: 0.2000 - val_accuracy: 0.9151\n",
      "Epoch 19/200\n",
      "18064/18064 [==============================] - 3s 156us/sample - loss: 0.2365 - accuracy: 0.9036 - val_loss: 0.2016 - val_accuracy: 0.9153\n",
      "Epoch 20/200\n",
      "18064/18064 [==============================] - 3s 158us/sample - loss: 0.2352 - accuracy: 0.9038 - val_loss: 0.2012 - val_accuracy: 0.9142\n",
      "Epoch 21/200\n",
      "18064/18064 [==============================] - 3s 159us/sample - loss: 0.2371 - accuracy: 0.9043 - val_loss: 0.2005 - val_accuracy: 0.9150\n"
     ]
    }
   ],
   "source": [
    "epochs = 200\n",
    "batch_size = 32\n",
    "\n",
    "L3_history_LSTM_binary = L3_model_LSTM_binary.fit(L3_X_train_binary, L3_y_train_binary, epochs=epochs, batch_size=batch_size,validation_split=0.2,callbacks=[EarlyStopping(monitor='val_loss', patience=3, min_delta=0.0001)])\n"
   ]
  },
  {
   "cell_type": "code",
   "execution_count": 138,
   "metadata": {},
   "outputs": [
    {
     "name": "stdout",
     "output_type": "stream",
     "text": [
      "22581/1 [=] - 1s 46us/sample - loss: 0.2374 - accuracy: 0.9159\n",
      "L3 LSTM Train set\n",
      "  Loss: 0.203\n",
      "  Accuracy: 0.916\n"
     ]
    }
   ],
   "source": [
    "# L3 LSTM Train Accuracy \n",
    "L3_LSTM_train_accr_binary = L3_model_LSTM_binary.evaluate(L3_X_train_binary,L3_y_train_binary)\n",
    "print('L3 LSTM Train set\\n  Loss: {:0.3f}\\n  Accuracy: {:0.3f}'.format(L3_LSTM_train_accr_binary[0],L3_LSTM_train_accr_binary[1]))\n",
    "#loss: 0.203 - accuracy: 0.916\n",
    "\n"
   ]
  },
  {
   "cell_type": "code",
   "execution_count": 139,
   "metadata": {},
   "outputs": [
    {
     "name": "stdout",
     "output_type": "stream",
     "text": [
      "7527/1 [=] - 0s 48us/sample - loss: 0.2505 - accuracy: 0.9186\n",
      "L3 LSTM Test set\n",
      "  Loss: 0.201\n",
      "  Accuracy: 0.919\n"
     ]
    }
   ],
   "source": [
    "# L3 LSTM Test Accuracy \n",
    "L3_LSTM_test_accr_binary = L3_model_LSTM_binary.evaluate(L3_X_test_binary,L3_y_test_binary)\n",
    "print('L3 LSTM Test set\\n  Loss: {:0.3f}\\n  Accuracy: {:0.3f}'.format(L3_LSTM_test_accr_binary[0],L3_LSTM_test_accr_binary[1]))\n",
    "#Loss: 0.201  Accuracy: 0.919"
   ]
  },
  {
   "cell_type": "code",
   "execution_count": 140,
   "metadata": {},
   "outputs": [
    {
     "name": "stdout",
     "output_type": "stream",
     "text": [
      "L3_LSTM_Y_pred_test_binary.shape : (7527, 2)\n",
      "L3_LSTM_Y_pred_test_binary[-1]: [0.91146845 0.08697259]\n",
      "L3_LSTM_Y_pred_test_binary_1D.shape : (7527,)\n",
      "L3_LSTM_Y_pred_test_binary_1D[-1]: 0\n",
      "L3_LSTM_y_test_binary_1D.shape : (7527,)\n",
      "Confusion Matrix\n",
      "[[5894  193]\n",
      " [ 420 1020]]\n"
     ]
    }
   ],
   "source": [
    "# L3 LSTM Confution Matrix \n",
    "\n",
    "L3_LSTM_Y_pred_test_binary = L3_model_LSTM_binary.predict(L3_X_test_binary)\n",
    "\n",
    "print('L3_LSTM_Y_pred_test_binary.shape : {}'.format(L3_LSTM_Y_pred_test_binary.shape))\n",
    "print('L3_LSTM_Y_pred_test_binary[-1]: {}'.format(L3_LSTM_Y_pred_test_binary[-1]))\n",
    "\n",
    "\n",
    "L3_LSTM_Y_pred_test_binary_1D = np.argmax(L3_LSTM_Y_pred_test_binary,axis = 1)\n",
    "print('L3_LSTM_Y_pred_test_binary_1D.shape : {}'.format(L3_LSTM_Y_pred_test_binary_1D.shape))\n",
    "print('L3_LSTM_Y_pred_test_binary_1D[-1]: {}'.format(L3_LSTM_Y_pred_test_binary_1D[-1]))\n",
    "\n",
    "L3_LSTM_y_test_binary_1D = np.argmax(L3_y_test_binary,axis = 1)\n",
    "print('L3_LSTM_y_test_binary_1D.shape : {}'.format(L3_LSTM_y_test_binary_1D.shape))\n",
    "\n",
    "from sklearn.metrics import  confusion_matrix\n",
    "\n",
    "print('Confusion Matrix')\n",
    "print(confusion_matrix(L3_LSTM_y_test_binary_1D, L3_LSTM_Y_pred_test_binary_1D))"
   ]
  },
  {
   "cell_type": "code",
   "execution_count": 141,
   "metadata": {},
   "outputs": [
    {
     "name": "stdout",
     "output_type": "stream",
     "text": [
      "L3 LSTM F1 Score  : 0.7689408217112702\n"
     ]
    }
   ],
   "source": [
    "# L3 LSTM f1_score\n",
    "\n",
    "from sklearn.metrics import f1_score\n",
    "L3_LSTM_f1_score = f1_score(L3_LSTM_y_test_binary_1D,L3_LSTM_Y_pred_test_binary_1D)\n",
    "print('L3 LSTM F1 Score  : {}'.format(L3_LSTM_f1_score))"
   ]
  },
  {
   "cell_type": "code",
   "execution_count": 142,
   "metadata": {},
   "outputs": [],
   "source": [
    "# Generic Function For plotting ROC Curve\n",
    "def plot_roc_curve(fpr,tpr,label=None):\n",
    "    plt.plot(fpr,tpr,\"b--\",linewidth=2,label=label)\n",
    "    plt.plot([0,1],[0,1],'k--')\n",
    "    plt.axis([0,1,0,1])\n",
    "    plt.xlabel(\"False Positive Rate\", fontsize=16)\n",
    "    plt.ylabel(\"True Positive Rate\", fontsize=16)\n"
   ]
  },
  {
   "cell_type": "code",
   "execution_count": 143,
   "metadata": {},
   "outputs": [
    {
     "name": "stdout",
     "output_type": "stream",
     "text": [
      "L3_LSTM_Y_pred_test_score_class1.shape : (7527,)\n",
      "L3 LSTM ROC_AUC  : 0.955634845663801\n"
     ]
    },
    {
     "data": {
      "image/png": "[encoded data removed]",
      "text/plain": [
       "<Figure size 576x432 with 1 Axes>"
      ]
     },
     "metadata": {
      "needs_background": "light"
     },
     "output_type": "display_data"
    }
   ],
   "source": [
    "# ROC Curve For L3 LSTM\n",
    "# For ROC curve pass the probability estimates of the positive class ie class =1\n",
    "\n",
    "L3_LSTM_Y_pred_test_score_class1 = L3_LSTM_Y_pred_test_binary[:,1]\n",
    "print('L3_LSTM_Y_pred_test_score_class1.shape : {}'.format(L3_LSTM_Y_pred_test_score_class1.shape))\n",
    "\n",
    "L3_LSTM_fpr,L3_LSTM_tpr,L3_LSTM_thresholds = roc_curve(L3_LSTM_y_test_binary_1D,L3_LSTM_Y_pred_test_score_class1)\n",
    "L3_LSTM_roc_auc = roc_auc_score(L3_LSTM_y_test_binary_1D,L3_LSTM_Y_pred_test_score_class1)\n",
    "print('L3 LSTM ROC_AUC  : {}'.format(L3_LSTM_roc_auc))\n",
    "plt.figure(figsize=(8, 6))\n",
    "plot_roc_curve(L3_LSTM_fpr, L3_LSTM_tpr,label=\"LSTM Model (L3), auc=\"+str(L3_LSTM_roc_auc) )\n",
    "plt.legend(loc=0)\n",
    "plt.show()"
   ]
  },
  {
   "cell_type": "code",
   "execution_count": 144,
   "metadata": {},
   "outputs": [
    {
     "name": "stdout",
     "output_type": "stream",
     "text": [
      "Model: \"sequential_9\"\n",
      "_________________________________________________________________\n",
      "Layer (type)                 Output Shape              Param #   \n",
      "=================================================================\n",
      "conv1d_3 (Conv1D)            (None, 1, 32)             512       \n",
      "_________________________________________________________________\n",
      "global_average_pooling1d_3 ( (None, 32)                0         \n",
      "_________________________________________________________________\n",
      "dense_8 (Dense)              (None, 2)                 66        \n",
      "=================================================================\n",
      "Total params: 578\n",
      "Trainable params: 578\n",
      "Non-trainable params: 0\n",
      "_________________________________________________________________\n",
      "None\n"
     ]
    }
   ],
   "source": [
    "################################################ 1D CNN (L3 Data) ######################################################################\n",
    "\n",
    "# Lets Train a 1DCNN on L3 data\n",
    "L3_model_1DCNN_binary = Sequential()\n",
    "L3_model_1DCNN_binary.add(Conv1D(32, kernel_size= 3, activation='relu',input_shape=(3,5)))\n",
    "L3_model_1DCNN_binary.add(GlobalAveragePooling1D())\n",
    "L3_model_1DCNN_binary.add(Dense(2, activation='sigmoid'))\n",
    "L3_model_1DCNN_binary.compile(loss='binary_crossentropy', optimizer='adam', metrics=['accuracy'])\n",
    "print(L3_model_1DCNN_binary.summary())\n"
   ]
  },
  {
   "cell_type": "code",
   "execution_count": 145,
   "metadata": {},
   "outputs": [
    {
     "name": "stdout",
     "output_type": "stream",
     "text": [
      "Train on 18064 samples, validate on 4517 samples\n",
      "Epoch 1/200\n",
      "18064/18064 [==============================] - 2s 112us/sample - loss: 0.2882 - accuracy: 0.8934 - val_loss: 0.2173 - val_accuracy: 0.9114\n",
      "Epoch 2/200\n",
      "18064/18064 [==============================] - 1s 71us/sample - loss: 0.2194 - accuracy: 0.9123 - val_loss: 0.2071 - val_accuracy: 0.9143\n",
      "Epoch 3/200\n",
      "18064/18064 [==============================] - 1s 70us/sample - loss: 0.2109 - accuracy: 0.9149 - val_loss: 0.2018 - val_accuracy: 0.9184\n",
      "Epoch 4/200\n",
      "18064/18064 [==============================] - 1s 70us/sample - loss: 0.2072 - accuracy: 0.9154 - val_loss: 0.2016 - val_accuracy: 0.9171\n",
      "Epoch 5/200\n",
      "18064/18064 [==============================] - 1s 68us/sample - loss: 0.2052 - accuracy: 0.9156 - val_loss: 0.2001 - val_accuracy: 0.9168\n",
      "Epoch 6/200\n",
      "18064/18064 [==============================] - 1s 69us/sample - loss: 0.2042 - accuracy: 0.9167 - val_loss: 0.2008 - val_accuracy: 0.9166\n",
      "Epoch 7/200\n",
      "18064/18064 [==============================] - 1s 70us/sample - loss: 0.2026 - accuracy: 0.9173 - val_loss: 0.1988 - val_accuracy: 0.9183\n",
      "Epoch 8/200\n",
      "18064/18064 [==============================] - 1s 68us/sample - loss: 0.2016 - accuracy: 0.9161 - val_loss: 0.1976 - val_accuracy: 0.9182\n",
      "Epoch 9/200\n",
      "18064/18064 [==============================] - 1s 68us/sample - loss: 0.2005 - accuracy: 0.9174 - val_loss: 0.1969 - val_accuracy: 0.9180\n",
      "Epoch 10/200\n",
      "18064/18064 [==============================] - 1s 70us/sample - loss: 0.1994 - accuracy: 0.9168 - val_loss: 0.1957 - val_accuracy: 0.9188\n",
      "Epoch 11/200\n",
      "18064/18064 [==============================] - 1s 69us/sample - loss: 0.1991 - accuracy: 0.9177 - val_loss: 0.1965 - val_accuracy: 0.9180\n",
      "Epoch 12/200\n",
      "18064/18064 [==============================] - 1s 69us/sample - loss: 0.1976 - accuracy: 0.9178 - val_loss: 0.1952 - val_accuracy: 0.9192\n",
      "Epoch 13/200\n",
      "18064/18064 [==============================] - 1s 69us/sample - loss: 0.1973 - accuracy: 0.9177 - val_loss: 0.1954 - val_accuracy: 0.9186\n",
      "Epoch 14/200\n",
      "18064/18064 [==============================] - 1s 69us/sample - loss: 0.1971 - accuracy: 0.9182 - val_loss: 0.1957 - val_accuracy: 0.9219\n",
      "Epoch 15/200\n",
      "18064/18064 [==============================] - 1s 70us/sample - loss: 0.1967 - accuracy: 0.9189 - val_loss: 0.1936 - val_accuracy: 0.9201\n",
      "Epoch 16/200\n",
      "18064/18064 [==============================] - 1s 67us/sample - loss: 0.1959 - accuracy: 0.9178 - val_loss: 0.1941 - val_accuracy: 0.9192\n",
      "Epoch 17/200\n",
      "18064/18064 [==============================] - 1s 69us/sample - loss: 0.1953 - accuracy: 0.9195 - val_loss: 0.1922 - val_accuracy: 0.9207\n",
      "Epoch 18/200\n",
      "18064/18064 [==============================] - 1s 70us/sample - loss: 0.1945 - accuracy: 0.9199 - val_loss: 0.1941 - val_accuracy: 0.9186\n",
      "Epoch 19/200\n",
      "18064/18064 [==============================] - 1s 70us/sample - loss: 0.1941 - accuracy: 0.9196 - val_loss: 0.1916 - val_accuracy: 0.9206\n",
      "Epoch 20/200\n",
      "18064/18064 [==============================] - 1s 69us/sample - loss: 0.1935 - accuracy: 0.9195 - val_loss: 0.1918 - val_accuracy: 0.9219\n",
      "Epoch 21/200\n",
      "18064/18064 [==============================] - 1s 69us/sample - loss: 0.1936 - accuracy: 0.9207 - val_loss: 0.1909 - val_accuracy: 0.9216\n",
      "Epoch 22/200\n",
      "18064/18064 [==============================] - 1s 71us/sample - loss: 0.1929 - accuracy: 0.9204 - val_loss: 0.1894 - val_accuracy: 0.9221\n",
      "Epoch 23/200\n",
      "18064/18064 [==============================] - 1s 69us/sample - loss: 0.1923 - accuracy: 0.9204 - val_loss: 0.1894 - val_accuracy: 0.9225\n",
      "Epoch 24/200\n",
      "18064/18064 [==============================] - 1s 69us/sample - loss: 0.1920 - accuracy: 0.9213 - val_loss: 0.1927 - val_accuracy: 0.9199\n",
      "Epoch 25/200\n",
      "18064/18064 [==============================] - 1s 70us/sample - loss: 0.1916 - accuracy: 0.9216 - val_loss: 0.1895 - val_accuracy: 0.9234\n"
     ]
    }
   ],
   "source": [
    "epochs = 200\n",
    "batch_size = 32\n",
    "\n",
    "L3_history_1DCNN_binary = L3_model_1DCNN_binary.fit(L3_X_train_binary, L3_y_train_binary, epochs=epochs, batch_size=batch_size,validation_split=0.2,callbacks=[EarlyStopping(monitor='val_loss', patience=3, min_delta=0.0001)])\n"
   ]
  },
  {
   "cell_type": "code",
   "execution_count": 146,
   "metadata": {},
   "outputs": [
    {
     "name": "stdout",
     "output_type": "stream",
     "text": [
      "22581/1 [=] - 1s 25us/sample - loss: 0.2191 - accuracy: 0.9230\n",
      "L3 1DCNN Train set\n",
      "  Loss: 0.190\n",
      "  Accuracy: 0.923\n"
     ]
    }
   ],
   "source": [
    "# L3 1DCNN Train Accuracy \n",
    "L3_1DCNN_train_accr_binary = L3_model_1DCNN_binary.evaluate(L3_X_train_binary,L3_y_train_binary)\n",
    "print('L3 1DCNN Train set\\n  Loss: {:0.3f}\\n  Accuracy: {:0.3f}'.format(L3_1DCNN_train_accr_binary[0],L3_1DCNN_train_accr_binary[1]))\n",
    "#loss: 0.190 - accuracy: 0.923\n"
   ]
  },
  {
   "cell_type": "code",
   "execution_count": 147,
   "metadata": {},
   "outputs": [
    {
     "name": "stdout",
     "output_type": "stream",
     "text": [
      "7527/1 [=] - 0s 25us/sample - loss: 0.2491 - accuracy: 0.9225\n",
      "L3 1DCNN Test set\n",
      "  Loss: 0.191\n",
      "  Accuracy: 0.923\n"
     ]
    }
   ],
   "source": [
    "# L3 1DCNN Test Accuracy \n",
    "L3_1DCNN_test_accr_binary = L3_model_1DCNN_binary.evaluate(L3_X_test_binary,L3_y_test_binary)\n",
    "print('L3 1DCNN Test set\\n  Loss: {:0.3f}\\n  Accuracy: {:0.3f}'.format(L3_1DCNN_test_accr_binary[0],L3_1DCNN_test_accr_binary[1]))\n",
    "#Loss: 0.191  Accuracy: 0.923\n"
   ]
  },
  {
   "cell_type": "code",
   "execution_count": 148,
   "metadata": {},
   "outputs": [
    {
     "name": "stdout",
     "output_type": "stream",
     "text": [
      "L3_1DCNN_Y_pred_test_binary.shape : (7527, 2)\n",
      "L3_1DCNN_Y_pred_test_binary[-1]: [0.9802485  0.01607617]\n",
      "L3_1DCNN_Y_pred_test_binary_1D.shape : (7527,)\n",
      "L3_1DCNN_Y_pred_test_binary_1D[-1]: 0\n",
      "L3_1DCNN_y_test_binary_1D.shape : (7527,)\n",
      "Confusion Matrix For L3 1DCNN\n",
      "[[5874  213]\n",
      " [ 371 1069]]\n"
     ]
    }
   ],
   "source": [
    "# L3 1DCNN Confution Matrix \n",
    "\n",
    "L3_1DCNN_Y_pred_test_binary = L3_model_1DCNN_binary.predict(L3_X_test_binary)\n",
    "\n",
    "print('L3_1DCNN_Y_pred_test_binary.shape : {}'.format(L3_1DCNN_Y_pred_test_binary.shape))\n",
    "print('L3_1DCNN_Y_pred_test_binary[-1]: {}'.format(L3_1DCNN_Y_pred_test_binary[-1]))\n",
    "\n",
    "\n",
    "L3_1DCNN_Y_pred_test_binary_1D = np.argmax(L3_1DCNN_Y_pred_test_binary,axis = 1)\n",
    "print('L3_1DCNN_Y_pred_test_binary_1D.shape : {}'.format(L3_1DCNN_Y_pred_test_binary_1D.shape))\n",
    "print('L3_1DCNN_Y_pred_test_binary_1D[-1]: {}'.format(L3_1DCNN_Y_pred_test_binary_1D[-1]))\n",
    "\n",
    "L3_1DCNN_y_test_binary_1D = np.argmax(L3_y_test_binary,axis = 1)\n",
    "print('L3_1DCNN_y_test_binary_1D.shape : {}'.format(L3_1DCNN_y_test_binary_1D.shape))\n",
    "\n",
    "from sklearn.metrics import  confusion_matrix\n",
    "\n",
    "print('Confusion Matrix For L3 1DCNN')\n",
    "print(confusion_matrix(L3_1DCNN_y_test_binary_1D, L3_1DCNN_Y_pred_test_binary_1D))\n"
   ]
  },
  {
   "cell_type": "code",
   "execution_count": 149,
   "metadata": {},
   "outputs": [
    {
     "name": "stdout",
     "output_type": "stream",
     "text": [
      "L3 1DCNN F1 Score  : 0.7854518736223365\n"
     ]
    }
   ],
   "source": [
    "# L3 1DCNN f1_score\n",
    "\n",
    "from sklearn.metrics import f1_score\n",
    "L3_1DCNN_f1_score = f1_score(L3_1DCNN_y_test_binary_1D,L3_1DCNN_Y_pred_test_binary_1D)\n",
    "print('L3 1DCNN F1 Score  : {}'.format(L3_1DCNN_f1_score))"
   ]
  },
  {
   "cell_type": "code",
   "execution_count": 150,
   "metadata": {
    "scrolled": true
   },
   "outputs": [
    {
     "name": "stdout",
     "output_type": "stream",
     "text": [
      "L3_1DCNN_Y_pred_test_score_class1.shape : (7527,)\n",
      "L3 1DCNN ROC_AUC  : 0.9601438858770056\n"
     ]
    },
    {
     "data": {
      "image/png": "[encoded data removed]",
      "text/plain": [
       "<Figure size 576x432 with 1 Axes>"
      ]
     },
     "metadata": {
      "needs_background": "light"
     },
     "output_type": "display_data"
    }
   ],
   "source": [
    "# ROC Curve For L3 1DCNN\n",
    "# For ROC curve pass the probability estimates of the positive class ie class =1\n",
    "\n",
    "L3_1DCNN_Y_pred_test_score_class1 = L3_1DCNN_Y_pred_test_binary[:,1]\n",
    "print('L3_1DCNN_Y_pred_test_score_class1.shape : {}'.format(L3_1DCNN_Y_pred_test_score_class1.shape))\n",
    "\n",
    "L3_1DCNN_fpr,L3_1DCNN_tpr,L3_1DCNN_thresholds = roc_curve(L3_1DCNN_y_test_binary_1D,L3_1DCNN_Y_pred_test_score_class1)\n",
    "L3_1DCNN_roc_auc = roc_auc_score(L3_1DCNN_y_test_binary_1D,L3_1DCNN_Y_pred_test_score_class1)\n",
    "print('L3 1DCNN ROC_AUC  : {}'.format(L3_1DCNN_roc_auc))\n",
    "plt.figure(figsize=(8, 6))\n",
    "plot_roc_curve(L3_1DCNN_fpr, L3_1DCNN_tpr,label=\"1DCNN Model (L3), auc=\"+str(L3_1DCNN_roc_auc) )\n",
    "plt.legend(loc=0)\n",
    "plt.show()"
   ]
  },
  {
   "cell_type": "markdown",
   "metadata": {},
   "source": [
    "# Sequence Models for Sequnece length 5          \n"
   ]
  },
  {
   "cell_type": "code",
   "execution_count": 152,
   "metadata": {},
   "outputs": [
    {
     "name": "stdout",
     "output_type": "stream",
     "text": [
      "Total Number Of Sequences of length 5 in 25-Oct-2019 data : 28413 \n"
     ]
    }
   ],
   "source": [
    "# Lets load the sequence dataset which has sequences of length 5 .\n",
    "# Here we use identifier/prefix 'L5' to denote the length of the input sequence; ie L5 means sequence length is 5.\n",
    "L5_immediate_layer_seq_store_25_Oct = pd.read_csv(\"D:/CERN/data/singlepi_e100GeV_pu200_25Oct/L5_immediate_layer_seq_store_25_Oct.csv\")\n",
    "L5_immediate_layer_seq_store_25_Oct.head(1)\n",
    "len(L5_immediate_layer_seq_store_25_Oct)\n",
    "\n",
    "L5_immediate_layer_seq_store_25_Oct_normalized = L5_immediate_layer_seq_store_25_Oct.copy()\n",
    "L5_immediate_layer_seq_store_25_Oct_normalized.head(1)\n",
    "\n",
    "L5_immediate_layer_seq_store_25_Oct_normalized['E'] = (L5_immediate_layer_seq_store_25_Oct_normalized.E - mean_E) / std_E\n",
    "L5_immediate_layer_seq_store_25_Oct_normalized['eta'] = (L5_immediate_layer_seq_store_25_Oct_normalized.eta - mean_eta) / std_eta\n",
    "L5_immediate_layer_seq_store_25_Oct_normalized['phi'] = (L5_immediate_layer_seq_store_25_Oct_normalized.phi - mean_phi) / std_phi\n",
    "L5_immediate_layer_seq_store_25_Oct_normalized['x'] = (L5_immediate_layer_seq_store_25_Oct_normalized.x - mean_x) / std_x\n",
    "L5_immediate_layer_seq_store_25_Oct_normalized['y'] = (L5_immediate_layer_seq_store_25_Oct_normalized.y - mean_y) / std_y\n",
    "L5_immediate_layer_seq_store_25_Oct_normalized['z'] =  (L5_immediate_layer_seq_store_25_Oct_normalized.z - mean_z) / std_z\n",
    "L5_immediate_layer_seq_store_25_Oct_normalized['nHits'] = (L5_immediate_layer_seq_store_25_Oct_normalized.nHits - mean_nHits) / std_nHits\n",
    "\n",
    "\n",
    "\n",
    "total_sequences_L5 = L5_immediate_layer_seq_store_25_Oct_normalized.shape[0] // 5 \n",
    "print('Total Number Of Sequences of length 5 in 25-Oct-2019 data : {0} '.format(total_sequences_L5))"
   ]
  },
  {
   "cell_type": "code",
   "execution_count": 153,
   "metadata": {},
   "outputs": [],
   "source": [
    "L5_binary_labels_1D = L5_immediate_layer_seq_store_25_Oct_normalized.purity[2::5].copy()"
   ]
  },
  {
   "cell_type": "code",
   "execution_count": 154,
   "metadata": {},
   "outputs": [
    {
     "data": {
      "text/plain": [
       "0.0    21856\n",
       "2.0     4820\n",
       "1.0     1737\n",
       "Name: purity, dtype: int64"
      ]
     },
     "execution_count": 154,
     "metadata": {},
     "output_type": "execute_result"
    }
   ],
   "source": [
    "L5_binary_labels_1D.value_counts()"
   ]
  },
  {
   "cell_type": "code",
   "execution_count": 155,
   "metadata": {},
   "outputs": [
    {
     "data": {
      "text/plain": [
       "0.0    23593\n",
       "2.0     4820\n",
       "Name: purity, dtype: int64"
      ]
     },
     "execution_count": 155,
     "metadata": {},
     "output_type": "execute_result"
    }
   ],
   "source": [
    "L5_binary_labels_1D.where(L5_binary_labels_1D == 2.0 , 0.0 , inplace = True )\n",
    "L5_binary_labels_1D.value_counts()"
   ]
  },
  {
   "cell_type": "code",
   "execution_count": 156,
   "metadata": {},
   "outputs": [
    {
     "data": {
      "text/plain": [
       "0.0    23593\n",
       "1.0     4820\n",
       "Name: purity, dtype: int64"
      ]
     },
     "execution_count": 156,
     "metadata": {},
     "output_type": "execute_result"
    }
   ],
   "source": [
    "L5_binary_labels_1D.where(L5_binary_labels_1D == 0.0 , 1.0 , inplace = True )\n",
    "L5_binary_labels_1D.value_counts()"
   ]
  },
  {
   "cell_type": "code",
   "execution_count": 157,
   "metadata": {},
   "outputs": [
    {
     "name": "stdout",
     "output_type": "stream",
     "text": [
      "Total Number Of Output Labels should be equal to Total Number Of Sequnces, which are: 28413 \n",
      "Total Number Of Output Labels : (28413,) \n"
     ]
    }
   ],
   "source": [
    "L5_binary_labels_1D = L5_binary_labels_1D.values\n",
    "L5_binary_labels_1D.shape\n",
    "print('Total Number Of Output Labels should be equal to Total Number Of Sequnces, which are: {0} '.format(total_sequences_L5))\n",
    "print('Total Number Of Output Labels : {0} '.format(L5_binary_labels_1D.shape))"
   ]
  },
  {
   "cell_type": "code",
   "execution_count": 158,
   "metadata": {},
   "outputs": [
    {
     "name": "stdout",
     "output_type": "stream",
     "text": [
      "Total Number Of Output Labels should be equal to Total Number Of Sequnces, which are: 28413 \n",
      "Total Number Of Output Labels : (28413, 2) \n"
     ]
    }
   ],
   "source": [
    "# Categorical representation\n",
    "L5_binary_labels_2D = L5_immediate_layer_seq_store_25_Oct_normalized.purity[2::5].copy()\n",
    "L5_binary_labels_2D.value_counts()\n",
    "\n",
    "L5_binary_labels_2D.where(L5_binary_labels_2D == 2.0 , 0.0 , inplace = True )\n",
    "\n",
    "L5_binary_labels_2D.where(L5_binary_labels_2D == 0.0 , 1.0 , inplace = True )\n",
    "\n",
    "L5_binary_labels_2D = L5_binary_labels_2D.values\n",
    "\n",
    "L5_binary_labels_2D = to_categorical(L5_binary_labels_2D, num_classes = 2)\n",
    "\n",
    "print('Total Number Of Output Labels should be equal to Total Number Of Sequnces, which are: {0} '.format(total_sequences_L5))\n",
    "print('Total Number Of Output Labels : {0} '.format(L5_binary_labels_2D.shape))"
   ]
  },
  {
   "cell_type": "code",
   "execution_count": 159,
   "metadata": {},
   "outputs": [
    {
     "name": "stdout",
     "output_type": "stream",
     "text": [
      "Total L5 Unique Sequences: 28413 \n"
     ]
    }
   ],
   "source": [
    "# Lets create a numpy array of dimension (total_sequences, individual_seq_length,  number_of_features)\n",
    "columns_for_model =  [ 'E', 'x', 'y', 'z','nHits']\n",
    "L5_immediate_layer_sequences_array_25_Oct_normalized =  np.zeros((total_sequences_L5, 5,  5))\n",
    "L5_immediate_layer_sequences_array_25_Oct_normalized.shape\n",
    "\n",
    "L5_unique_seq_id = L5_immediate_layer_seq_store_25_Oct_normalized.sequence_id.unique()\n",
    "print('Total L5 Unique Sequences: {0} '.format(len(L5_unique_seq_id)))"
   ]
  },
  {
   "cell_type": "code",
   "execution_count": 160,
   "metadata": {},
   "outputs": [],
   "source": [
    "# Populate the Array\n",
    "for i,seq_id in enumerate(L5_unique_seq_id):\n",
    "    L5_immediate_layer_sequences_array_25_Oct_normalized[i] = L5_immediate_layer_seq_store_25_Oct_normalized[L5_immediate_layer_seq_store_25_Oct_normalized.sequence_id == seq_id][columns_for_model].values\n",
    "    "
   ]
  },
  {
   "cell_type": "code",
   "execution_count": 161,
   "metadata": {},
   "outputs": [
    {
     "name": "stdout",
     "output_type": "stream",
     "text": [
      "Shape of L5_X_train_binary tensor: (21309, 5, 5)\n",
      "Shape of L5_y_train_binary tensor: (21309, 2)\n",
      "Shape of L5_X_test_binary tensor: (7104, 5, 5)\n",
      "Shape of L5_y_test_binary tensor: (7104, 2)\n"
     ]
    }
   ],
   "source": [
    "# Split the Train and test data into 75-25\n",
    "L5_X_train_binary, L5_X_test_binary, L5_y_train_binary, L5_y_test_binary = train_test_split(L5_immediate_layer_sequences_array_25_Oct_normalized , L5_binary_labels_2D, test_size=0.25, random_state=42)\n",
    "print('Shape of L5_X_train_binary tensor:', L5_X_train_binary.shape)\n",
    "print('Shape of L5_y_train_binary tensor:', L5_y_train_binary.shape)\n",
    "print('Shape of L5_X_test_binary tensor:', L5_X_test_binary.shape)\n",
    "print('Shape of L5_y_test_binary tensor:', L5_y_test_binary.shape)"
   ]
  },
  {
   "cell_type": "code",
   "execution_count": 162,
   "metadata": {},
   "outputs": [
    {
     "name": "stdout",
     "output_type": "stream",
     "text": [
      "Model: \"sequential_10\"\n",
      "_________________________________________________________________\n",
      "Layer (type)                 Output Shape              Param #   \n",
      "=================================================================\n",
      "lstm_5 (LSTM)                (None, 32)                4864      \n",
      "_________________________________________________________________\n",
      "dense_9 (Dense)              (None, 2)                 66        \n",
      "=================================================================\n",
      "Total params: 4,930\n",
      "Trainable params: 4,930\n",
      "Non-trainable params: 0\n",
      "_________________________________________________________________\n",
      "None\n"
     ]
    }
   ],
   "source": [
    "# Lets Train a LSTM on L5  data\n",
    "L5_model_LSTM_binary = Sequential()\n",
    "L5_model_LSTM_binary.add(LSTM(32, dropout=0.2, recurrent_dropout=0.2, input_shape=(None, 5)))\n",
    "L5_model_LSTM_binary.add(Dense(2, activation='sigmoid'))\n",
    "L5_model_LSTM_binary.compile(loss='binary_crossentropy', optimizer='adam', metrics=['accuracy'])\n",
    "print(L5_model_LSTM_binary.summary())"
   ]
  },
  {
   "cell_type": "code",
   "execution_count": 163,
   "metadata": {},
   "outputs": [
    {
     "name": "stdout",
     "output_type": "stream",
     "text": [
      "Train on 17047 samples, validate on 4262 samples\n",
      "Epoch 1/200\n",
      "17047/17047 [==============================] - 6s 356us/sample - loss: 0.2841 - accuracy: 0.8954 - val_loss: 0.2108 - val_accuracy: 0.9168\n",
      "Epoch 2/200\n",
      "17047/17047 [==============================] - 3s 201us/sample - loss: 0.2377 - accuracy: 0.9072 - val_loss: 0.2050 - val_accuracy: 0.9187\n",
      "Epoch 3/200\n",
      "17047/17047 [==============================] - 3s 204us/sample - loss: 0.2317 - accuracy: 0.9074 - val_loss: 0.2022 - val_accuracy: 0.9195\n",
      "Epoch 4/200\n",
      "17047/17047 [==============================] - 4s 207us/sample - loss: 0.2251 - accuracy: 0.9105 - val_loss: 0.2025 - val_accuracy: 0.9178\n",
      "Epoch 5/200\n",
      "17047/17047 [==============================] - 3s 200us/sample - loss: 0.2268 - accuracy: 0.9097 - val_loss: 0.1993 - val_accuracy: 0.9206\n",
      "Epoch 6/200\n",
      "17047/17047 [==============================] - 4s 209us/sample - loss: 0.2282 - accuracy: 0.9093 - val_loss: 0.1986 - val_accuracy: 0.9192\n",
      "Epoch 7/200\n",
      "17047/17047 [==============================] - 3s 203us/sample - loss: 0.2253 - accuracy: 0.9115 - val_loss: 0.1994 - val_accuracy: 0.9185\n",
      "Epoch 8/200\n",
      "17047/17047 [==============================] - 3s 204us/sample - loss: 0.2269 - accuracy: 0.9104 - val_loss: 0.1985 - val_accuracy: 0.9194\n",
      "Epoch 9/200\n",
      "17047/17047 [==============================] - 4s 207us/sample - loss: 0.2256 - accuracy: 0.9094 - val_loss: 0.2012 - val_accuracy: 0.9188\n"
     ]
    }
   ],
   "source": [
    "epochs = 200\n",
    "batch_size = 32\n",
    "\n",
    "L5_history_LSTM_binary = L5_model_LSTM_binary.fit(L5_X_train_binary, L5_y_train_binary, epochs=epochs, batch_size=batch_size,validation_split=0.2,callbacks=[EarlyStopping(monitor='val_loss', patience=3, min_delta=0.0001)])\n"
   ]
  },
  {
   "cell_type": "code",
   "execution_count": 164,
   "metadata": {},
   "outputs": [
    {
     "name": "stdout",
     "output_type": "stream",
     "text": [
      "21309/1 [=] - 1s 55us/sample - loss: 0.2176 - accuracy: 0.9191\n",
      "L5 LSTM Train set\n",
      "  Loss: 0.200\n",
      "  Accuracy: 0.919\n"
     ]
    }
   ],
   "source": [
    "# L5 LSTM Train Accuracy \n",
    "L5_LSTM_train_accr_binary = L5_model_LSTM_binary.evaluate(L5_X_train_binary,L5_y_train_binary)\n",
    "print('L5 LSTM Train set\\n  Loss: {:0.3f}\\n  Accuracy: {:0.3f}'.format(L5_LSTM_train_accr_binary[0],L5_LSTM_train_accr_binary[1]))\n",
    "#loss: 0.200 - accuracy: 0.919"
   ]
  },
  {
   "cell_type": "code",
   "execution_count": 165,
   "metadata": {},
   "outputs": [
    {
     "name": "stdout",
     "output_type": "stream",
     "text": [
      "7104/1 [=] - 1s 100us/sample - loss: 0.2365 - accuracy: 0.9207\n",
      "L5 LSTM Test set\n",
      "  Loss: 0.202\n",
      "  Accuracy: 0.921\n"
     ]
    }
   ],
   "source": [
    "# L5 LSTM Test Accuracy \n",
    "L5_LSTM_test_accr_binary = L5_model_LSTM_binary.evaluate(L5_X_test_binary,L5_y_test_binary)\n",
    "print('L5 LSTM Test set\\n  Loss: {:0.3f}\\n  Accuracy: {:0.3f}'.format(L5_LSTM_test_accr_binary[0],L5_LSTM_test_accr_binary[1]))\n",
    "#Loss: 0.202  Accuracy: 0.921"
   ]
  },
  {
   "cell_type": "code",
   "execution_count": 166,
   "metadata": {},
   "outputs": [
    {
     "name": "stdout",
     "output_type": "stream",
     "text": [
      "L5_LSTM_Y_pred_test_binary.shape : (7104, 2)\n",
      "L5_LSTM_Y_pred_test_binary[-1]: [0.99858713 0.00147268]\n",
      "L5_LSTM_Y_pred_test_binary_1D.shape : (7104,)\n",
      "L5_LSTM_Y_pred_test_binary_1D[-1]: 0\n",
      "L5_LSTM_y_test_binary_1D.shape : (7104,)\n",
      "L5 Confusion Matrix LSTM\n",
      "[[5650  269]\n",
      " [ 292  893]]\n"
     ]
    }
   ],
   "source": [
    "# L5 LSTM Confution Matrix \n",
    "\n",
    "L5_LSTM_Y_pred_test_binary = L5_model_LSTM_binary.predict(L5_X_test_binary)\n",
    "\n",
    "print('L5_LSTM_Y_pred_test_binary.shape : {}'.format(L5_LSTM_Y_pred_test_binary.shape))\n",
    "print('L5_LSTM_Y_pred_test_binary[-1]: {}'.format(L5_LSTM_Y_pred_test_binary[-1]))\n",
    "\n",
    "\n",
    "L5_LSTM_Y_pred_test_binary_1D = np.argmax(L5_LSTM_Y_pred_test_binary,axis = 1)\n",
    "print('L5_LSTM_Y_pred_test_binary_1D.shape : {}'.format(L5_LSTM_Y_pred_test_binary_1D.shape))\n",
    "print('L5_LSTM_Y_pred_test_binary_1D[-1]: {}'.format(L5_LSTM_Y_pred_test_binary_1D[-1]))\n",
    "\n",
    "L5_LSTM_y_test_binary_1D = np.argmax(L5_y_test_binary,axis = 1)\n",
    "print('L5_LSTM_y_test_binary_1D.shape : {}'.format(L5_LSTM_y_test_binary_1D.shape))\n",
    "\n",
    "from sklearn.metrics import  confusion_matrix\n",
    "\n",
    "print('L5 Confusion Matrix LSTM')\n",
    "print(confusion_matrix(L5_LSTM_y_test_binary_1D, L5_LSTM_Y_pred_test_binary_1D))\n"
   ]
  },
  {
   "cell_type": "code",
   "execution_count": 167,
   "metadata": {},
   "outputs": [
    {
     "name": "stdout",
     "output_type": "stream",
     "text": [
      "L5 LSTM F1 Score  : 0.7609714529186193\n"
     ]
    }
   ],
   "source": [
    "# L5 LSTM f1_score\n",
    "\n",
    "from sklearn.metrics import f1_score\n",
    "L5_LSTM_f1_score = f1_score(L5_LSTM_y_test_binary_1D,L5_LSTM_Y_pred_test_binary_1D)\n",
    "print('L5 LSTM F1 Score  : {}'.format(L5_LSTM_f1_score))"
   ]
  },
  {
   "cell_type": "code",
   "execution_count": 168,
   "metadata": {},
   "outputs": [
    {
     "name": "stdout",
     "output_type": "stream",
     "text": [
      "L5_LSTM_Y_pred_test_score_class1.shape : (7104,)\n",
      "L5 LSTM ROC_AUC  : 0.9493548274419146\n"
     ]
    },
    {
     "data": {
      "image/png": "[encoded data removed]",
      "text/plain": [
       "<Figure size 576x432 with 1 Axes>"
      ]
     },
     "metadata": {
      "needs_background": "light"
     },
     "output_type": "display_data"
    }
   ],
   "source": [
    "# ROC Curve For L5 LSTM\n",
    "# For ROC curve pass the probability estimates of the positive class ie class =1\n",
    "\n",
    "L5_LSTM_Y_pred_test_score_class1 = L5_LSTM_Y_pred_test_binary[:,1]\n",
    "print('L5_LSTM_Y_pred_test_score_class1.shape : {}'.format(L5_LSTM_Y_pred_test_score_class1.shape))\n",
    "\n",
    "L5_LSTM_fpr,L5_LSTM_tpr,L5_LSTM_thresholds = roc_curve(L5_LSTM_y_test_binary_1D,L5_LSTM_Y_pred_test_score_class1)\n",
    "L5_LSTM_roc_auc = roc_auc_score(L5_LSTM_y_test_binary_1D,L5_LSTM_Y_pred_test_score_class1)\n",
    "print('L5 LSTM ROC_AUC  : {}'.format(L5_LSTM_roc_auc))\n",
    "plt.figure(figsize=(8, 6))\n",
    "plot_roc_curve(L5_LSTM_fpr, L5_LSTM_tpr,label=\"LSTM Model (L5), auc=\"+str(L5_LSTM_roc_auc) )\n",
    "plt.legend(loc=0)\n",
    "plt.show()"
   ]
  },
  {
   "cell_type": "code",
   "execution_count": 169,
   "metadata": {},
   "outputs": [
    {
     "name": "stdout",
     "output_type": "stream",
     "text": [
      "Model: \"sequential_11\"\n",
      "_________________________________________________________________\n",
      "Layer (type)                 Output Shape              Param #   \n",
      "=================================================================\n",
      "conv1d_4 (Conv1D)            (None, 3, 32)             512       \n",
      "_________________________________________________________________\n",
      "global_average_pooling1d_4 ( (None, 32)                0         \n",
      "_________________________________________________________________\n",
      "dense_10 (Dense)             (None, 2)                 66        \n",
      "=================================================================\n",
      "Total params: 578\n",
      "Trainable params: 578\n",
      "Non-trainable params: 0\n",
      "_________________________________________________________________\n",
      "None\n"
     ]
    }
   ],
   "source": [
    "################################################ 1D CNN (L5 Data) ######################################################################\n",
    "\n",
    "# Lets Train a 1DCNN on L5 data\n",
    "L5_model_1DCNN_binary = Sequential()\n",
    "L5_model_1DCNN_binary.add(Conv1D(32, kernel_size= 3, activation='relu',input_shape=(5,5)))\n",
    "L5_model_1DCNN_binary.add(GlobalAveragePooling1D())\n",
    "L5_model_1DCNN_binary.add(Dense(2, activation='sigmoid'))\n",
    "L5_model_1DCNN_binary.compile(loss='binary_crossentropy', optimizer='adam', metrics=['accuracy'])\n",
    "print(L5_model_1DCNN_binary.summary())"
   ]
  },
  {
   "cell_type": "code",
   "execution_count": 170,
   "metadata": {},
   "outputs": [
    {
     "name": "stdout",
     "output_type": "stream",
     "text": [
      "Train on 17047 samples, validate on 4262 samples\n",
      "Epoch 1/200\n",
      "17047/17047 [==============================] - 2s 114us/sample - loss: 0.2661 - accuracy: 0.9043 - val_loss: 0.2113 - val_accuracy: 0.9176\n",
      "Epoch 2/200\n",
      "17047/17047 [==============================] - 1s 72us/sample - loss: 0.2088 - accuracy: 0.9156 - val_loss: 0.1984 - val_accuracy: 0.9213\n",
      "Epoch 3/200\n",
      "17047/17047 [==============================] - 1s 71us/sample - loss: 0.1997 - accuracy: 0.9181 - val_loss: 0.1940 - val_accuracy: 0.9243\n",
      "Epoch 4/200\n",
      "17047/17047 [==============================] - 1s 74us/sample - loss: 0.1959 - accuracy: 0.9192 - val_loss: 0.1910 - val_accuracy: 0.9239\n",
      "Epoch 5/200\n",
      "17047/17047 [==============================] - 1s 73us/sample - loss: 0.1944 - accuracy: 0.9198 - val_loss: 0.1903 - val_accuracy: 0.9243\n",
      "Epoch 6/200\n",
      "17047/17047 [==============================] - 1s 75us/sample - loss: 0.1927 - accuracy: 0.9209 - val_loss: 0.1897 - val_accuracy: 0.9249\n",
      "Epoch 7/200\n",
      "17047/17047 [==============================] - 1s 70us/sample - loss: 0.1918 - accuracy: 0.9208 - val_loss: 0.1885 - val_accuracy: 0.9239\n",
      "Epoch 8/200\n",
      "17047/17047 [==============================] - 1s 71us/sample - loss: 0.1909 - accuracy: 0.9217 - val_loss: 0.1890 - val_accuracy: 0.9242\n",
      "Epoch 9/200\n",
      "17047/17047 [==============================] - 1s 73us/sample - loss: 0.1900 - accuracy: 0.9224 - val_loss: 0.1892 - val_accuracy: 0.9243\n",
      "Epoch 10/200\n",
      "17047/17047 [==============================] - 1s 68us/sample - loss: 0.1895 - accuracy: 0.9242 - val_loss: 0.1879 - val_accuracy: 0.9246\n",
      "Epoch 11/200\n",
      "17047/17047 [==============================] - 1s 74us/sample - loss: 0.1889 - accuracy: 0.9239 - val_loss: 0.1875 - val_accuracy: 0.9262\n",
      "Epoch 12/200\n",
      "17047/17047 [==============================] - 1s 72us/sample - loss: 0.1882 - accuracy: 0.9239 - val_loss: 0.1915 - val_accuracy: 0.9219\n",
      "Epoch 13/200\n",
      "17047/17047 [==============================] - 1s 72us/sample - loss: 0.1880 - accuracy: 0.9232 - val_loss: 0.1867 - val_accuracy: 0.9249\n",
      "Epoch 14/200\n",
      "17047/17047 [==============================] - 1s 75us/sample - loss: 0.1876 - accuracy: 0.9234 - val_loss: 0.1873 - val_accuracy: 0.9244\n",
      "Epoch 15/200\n",
      "17047/17047 [==============================] - 1s 72us/sample - loss: 0.1875 - accuracy: 0.9231 - val_loss: 0.1864 - val_accuracy: 0.9262\n",
      "Epoch 16/200\n",
      "17047/17047 [==============================] - 1s 72us/sample - loss: 0.1870 - accuracy: 0.9238 - val_loss: 0.1861 - val_accuracy: 0.9261\n",
      "Epoch 17/200\n",
      "17047/17047 [==============================] - 1s 73us/sample - loss: 0.1866 - accuracy: 0.9242 - val_loss: 0.1883 - val_accuracy: 0.9241\n",
      "Epoch 18/200\n",
      "17047/17047 [==============================] - 1s 72us/sample - loss: 0.1863 - accuracy: 0.9245 - val_loss: 0.1860 - val_accuracy: 0.9253\n",
      "Epoch 19/200\n",
      "17047/17047 [==============================] - 1s 71us/sample - loss: 0.1859 - accuracy: 0.9249 - val_loss: 0.1873 - val_accuracy: 0.9243\n"
     ]
    }
   ],
   "source": [
    "epochs = 200\n",
    "batch_size = 32\n",
    "\n",
    "L5_history_1DCNN_binary = L5_model_1DCNN_binary.fit(L5_X_train_binary, L5_y_train_binary, epochs=epochs, batch_size=batch_size,validation_split=0.2,callbacks=[EarlyStopping(monitor='val_loss', patience=3, min_delta=0.0001)])\n"
   ]
  },
  {
   "cell_type": "code",
   "execution_count": 171,
   "metadata": {},
   "outputs": [
    {
     "name": "stdout",
     "output_type": "stream",
     "text": [
      "21309/1 [=] - 1s 25us/sample - loss: 0.2200 - accuracy: 0.9249\n",
      "L5 1DCNN Train set\n",
      "  Loss: 0.185\n",
      "  Accuracy: 0.925\n"
     ]
    }
   ],
   "source": [
    "# L5 1DCNN Train Accuracy \n",
    "L5_1DCNN_train_accr_binary = L5_model_1DCNN_binary.evaluate(L5_X_train_binary,L5_y_train_binary)\n",
    "print('L5 1DCNN Train set\\n  Loss: {:0.3f}\\n  Accuracy: {:0.3f}'.format(L5_1DCNN_train_accr_binary[0],L5_1DCNN_train_accr_binary[1]))\n",
    "#loss: 0.185 - accuracy: 0.925"
   ]
  },
  {
   "cell_type": "code",
   "execution_count": 172,
   "metadata": {},
   "outputs": [
    {
     "name": "stdout",
     "output_type": "stream",
     "text": [
      "7104/1 [=] - 0s 46us/sample - loss: 0.2235 - accuracy: 0.9254\n",
      "L5 1DCNN Test set\n",
      "  Loss: 0.190\n",
      "  Accuracy: 0.925\n"
     ]
    }
   ],
   "source": [
    "# L5 1DCNN Test Accuracy \n",
    "L5_1DCNN_test_accr_binary = L5_model_1DCNN_binary.evaluate(L5_X_test_binary,L5_y_test_binary)\n",
    "print('L5 1DCNN Test set\\n  Loss: {:0.3f}\\n  Accuracy: {:0.3f}'.format(L5_1DCNN_test_accr_binary[0],L5_1DCNN_test_accr_binary[1]))\n",
    "#Loss: 0.190  Accuracy: 0.92\n"
   ]
  },
  {
   "cell_type": "code",
   "execution_count": 174,
   "metadata": {},
   "outputs": [
    {
     "name": "stdout",
     "output_type": "stream",
     "text": [
      "L5_1DCNN_Y_pred_test_binary.shape : (7104, 2)\n",
      "L5_1DCNN_Y_pred_test_binary[-1]: [0.9990722  0.00105056]\n",
      "L5_1DCNN_Y_pred_test_binary_1D.shape : (7104,)\n",
      "L5_1DCNN_Y_pred_test_binary_1D[-1]: 0\n",
      "L5_1DCNN_y_test_binary_1D.shape : (7104,)\n",
      "Confusion Matrix For L5 1DCNN\n",
      "[[5670  249]\n",
      " [ 275  910]]\n"
     ]
    }
   ],
   "source": [
    "# L5 1DCNN Confution Matrix \n",
    "\n",
    "L5_1DCNN_Y_pred_test_binary = L5_model_1DCNN_binary.predict(L5_X_test_binary)\n",
    "\n",
    "print('L5_1DCNN_Y_pred_test_binary.shape : {}'.format(L5_1DCNN_Y_pred_test_binary.shape))\n",
    "print('L5_1DCNN_Y_pred_test_binary[-1]: {}'.format(L5_1DCNN_Y_pred_test_binary[-1]))\n",
    "\n",
    "\n",
    "L5_1DCNN_Y_pred_test_binary_1D = np.argmax(L5_1DCNN_Y_pred_test_binary,axis = 1)\n",
    "print('L5_1DCNN_Y_pred_test_binary_1D.shape : {}'.format(L5_1DCNN_Y_pred_test_binary_1D.shape))\n",
    "print('L5_1DCNN_Y_pred_test_binary_1D[-1]: {}'.format(L5_1DCNN_Y_pred_test_binary_1D[-1]))\n",
    "\n",
    "L5_1DCNN_y_test_binary_1D = np.argmax(L5_y_test_binary,axis = 1)\n",
    "print('L5_1DCNN_y_test_binary_1D.shape : {}'.format(L5_1DCNN_y_test_binary_1D.shape))\n",
    "\n",
    "from sklearn.metrics import  confusion_matrix\n",
    "\n",
    "print('Confusion Matrix For L5 1DCNN')\n",
    "print(confusion_matrix(L5_1DCNN_y_test_binary_1D, L5_1DCNN_Y_pred_test_binary_1D))"
   ]
  },
  {
   "cell_type": "code",
   "execution_count": 175,
   "metadata": {},
   "outputs": [
    {
     "name": "stdout",
     "output_type": "stream",
     "text": [
      "L5 1DCNN F1 Score  : 0.7764505119453925\n"
     ]
    }
   ],
   "source": [
    "# L5 1DCNN f1_score\n",
    "\n",
    "from sklearn.metrics import f1_score\n",
    "L5_1DCNN_f1_score = f1_score(L5_1DCNN_y_test_binary_1D,L5_1DCNN_Y_pred_test_binary_1D)\n",
    "print('L5 1DCNN F1 Score  : {}'.format(L5_1DCNN_f1_score))\n"
   ]
  },
  {
   "cell_type": "code",
   "execution_count": 176,
   "metadata": {},
   "outputs": [
    {
     "name": "stdout",
     "output_type": "stream",
     "text": [
      "L5_1DCNN_Y_pred_test_score_class1.shape : (7104,)\n",
      "L5 1DCNN ROC_AUC  : 0.9560879895466434\n"
     ]
    },
    {
     "data": {
      "image/png": "[encoded data removed]",
      "text/plain": [
       "<Figure size 576x432 with 1 Axes>"
      ]
     },
     "metadata": {
      "needs_background": "light"
     },
     "output_type": "display_data"
    }
   ],
   "source": [
    "# ROC Curve For L5 1DCNN\n",
    "# For ROC curve pass the probability estimates of the positive class ie class =1\n",
    "\n",
    "L5_1DCNN_Y_pred_test_score_class1 = L5_1DCNN_Y_pred_test_binary[:,1]\n",
    "print('L5_1DCNN_Y_pred_test_score_class1.shape : {}'.format(L5_1DCNN_Y_pred_test_score_class1.shape))\n",
    "\n",
    "L5_1DCNN_fpr,L5_1DCNN_tpr,L5_1DCNN_thresholds = roc_curve(L5_1DCNN_y_test_binary_1D,L5_1DCNN_Y_pred_test_score_class1)\n",
    "L5_1DCNN_roc_auc = roc_auc_score(L5_1DCNN_y_test_binary_1D,L5_1DCNN_Y_pred_test_score_class1)\n",
    "print('L5 1DCNN ROC_AUC  : {}'.format(L5_1DCNN_roc_auc))\n",
    "plt.figure(figsize=(8, 6))\n",
    "plot_roc_curve(L5_1DCNN_fpr, L5_1DCNN_tpr,label=\"1DCNN Model (L5), auc=\"+str(L5_1DCNN_roc_auc) )\n",
    "plt.legend(loc=0)\n",
    "plt.show()"
   ]
  },
  {
   "cell_type": "code",
   "execution_count": 186,
   "metadata": {},
   "outputs": [
    {
     "data": {
      "image/png": "[encoded data removed]",
      "text/plain": [
       "<Figure size 720x576 with 1 Axes>"
      ]
     },
     "metadata": {
      "needs_background": "light"
     },
     "output_type": "display_data"
    }
   ],
   "source": [
    "# Lets Plot all ROC Curves Together\n",
    "\n",
    "plt.figure(figsize=(10, 8))\n",
    "plt.plot(L3_LSTM_fpr, L3_LSTM_tpr, \"y--\", linewidth=2, label=\"LSTM Model (L3), auc=\"+str(L3_LSTM_roc_auc))\n",
    "plt.plot(L3_1DCNN_fpr, L3_1DCNN_tpr, \"g--\", linewidth=2, label=\"1DCNN Model (L3), auc=\"+str(L3_1DCNN_roc_auc))\n",
    "plt.plot(L5_LSTM_fpr, L5_LSTM_tpr, \"r--\", linewidth=2, label=\"LSTM Model (L5), auc=\"+str(L5_LSTM_roc_auc))\n",
    "plot_roc_curve(L5_1DCNN_fpr, L5_1DCNN_tpr,label=\"1DCNN Model (L5), auc=\"+str(L5_1DCNN_roc_auc) )\n",
    "plt.legend(loc=\"lower right\", fontsize=16)\n",
    "plt.show()"
   ]
  },
  {
   "cell_type": "code",
   "execution_count": null,
   "metadata": {},
   "outputs": [],
   "source": []
  }
 ],
 "metadata": {
  "kernelspec": {
   "display_name": "Python 3",
   "language": "python",
   "name": "python3"
  },
  "language_info": {
   "codemirror_mode": {
    "name": "ipython",
    "version": 3
   },
   "file_extension": ".py",
   "mimetype": "text/x-python",
   "name": "python",
   "nbconvert_exporter": "python",
   "pygments_lexer": "ipython3",
   "version": "3.7.1"
  }
 },
 "nbformat": 4,
 "nbformat_minor": 2
}
